{
 "cells": [
  {
   "cell_type": "code",
   "execution_count": 1,
   "id": "87076cc2",
   "metadata": {
    "ExecuteTime": {
     "end_time": "2022-03-30T17:10:12.119810Z",
     "start_time": "2022-03-30T17:10:09.495296Z"
    }
   },
   "outputs": [],
   "source": [
    "import numpy as np\n",
    "from pyfinite import ffield\n",
    "import galois\n",
    "\n",
    "F = ffield.FField(7, gen=0x83, useLUT=-1)\n",
    "\n",
    "def Exponentiate(base,power):\n",
    "    ans = base\n",
    "    for i in range(1,power):\n",
    "        ans = F.Multiply(ans,base)\n",
    "    return ans\n",
    "\n",
    "\n",
    "def LinearTransform(linmat,msg):\n",
    "    ans = [0]*8\n",
    "    for i in range(8):\n",
    "        temp  = []\n",
    "        mul=[]\n",
    "        \n",
    "        for j in range(8):\n",
    "            mul.append(F.Multiply(linmat[i][j],msg[i]))\n",
    "    \n",
    "        for k in range(8):\n",
    "            temp.append(np.bitwise_xor(ans[k],mul[k]))\n",
    "        ans = temp\n",
    "    return ans"
   ]
  },
  {
   "cell_type": "code",
   "execution_count": 2,
   "id": "0b3ca134",
   "metadata": {
    "ExecuteTime": {
     "end_time": "2022-03-30T17:10:12.135767Z",
     "start_time": "2022-03-30T17:10:12.121803Z"
    }
   },
   "outputs": [],
   "source": [
    "def dec_blk(cipher):\n",
    "  plain= \"\"\n",
    "  for i in range(0,len(cipher),2):\n",
    "      plain+=chr(16*(ord(cipher[i:i+2][0]) - ord('f')) + ord(cipher[i:i+2][1]) - ord('f'))\n",
    "  return plain"
   ]
  },
  {
   "cell_type": "code",
   "execution_count": 4,
   "id": "3515a340",
   "metadata": {
    "ExecuteTime": {
     "end_time": "2022-03-30T17:10:46.858693Z",
     "start_time": "2022-03-30T17:10:12.138763Z"
    },
    "scrolled": true
   },
   "outputs": [
    {
     "name": "stdout",
     "output_type": "stream",
     "text": [
      "Possible diagonal values: \n",
      "\n",
      "[[[73, 84, 20], [], [], [], [], [], [], []], [[], [122, 62, 70], [], [], [], [], [], []], [[], [], [119, 43, 5], [], [], [], [], []], [[], [], [], [12, 52, 100], [], [], [], []], [[], [], [], [], [5, 31, 112], [], [], []], [[], [], [], [], [], [11, 122, 100], [], []], [[], [], [], [], [], [], [52, 27, 27], []], [[], [], [], [], [], [], [], [38, 65, 52]]]\n",
      "\n",
      "\n",
      "Possible exponents: \n",
      "\n",
      "[[18, 21, 88], [26, 113, 115], [2, 38, 87], [71, 79, 104], [78, 85, 91], [45, 93, 116], [1, 19, 107], [22, 37, 68]]\n",
      "\n",
      "\n",
      "===========================\n",
      "\n",
      "\n",
      "Diagonal values: \n",
      "\n",
      "[[[84], [113], [], [], [], [], [], []], [[], [70], [30], [], [], [], [], []], [[], [], [43], [1], [], [], [], []], [[], [], [], [12], [109], [], [], []], [[], [], [], [], [112], [98], [], []], [[], [], [], [], [], [11], [95], []], [[], [], [], [], [], [], [27], []], [[], [], [], [], [], [], [], [38, 65, 52]]]\n",
      "\n",
      "\n",
      "Exponents: \n",
      "\n",
      "[[21], [115], [38], [71], [91], [45], [19], [22, 37, 68]]\n"
     ]
    }
   ],
   "source": [
    "#for diagonal elements\n",
    "PossibleExponents = [[] for i in range(8)]   \n",
    "possibleDiagonalVals=[[[] for i in range(8)] for j in range(8)]\n",
    "input_file = open('plaintexts.txt','r')\n",
    "output_file = open('ciphertexts.txt','r')\n",
    "input = (input_file.readlines()[0]).strip().split(' ')\n",
    "output = output_file.readlines()\n",
    "\n",
    "input_string = []\n",
    "for msg in input:\n",
    "    input_string.append(dec_blk(msg)[0])\n",
    "\n",
    "output_string = []\n",
    "for i in range(len(output)):\n",
    "    x = []\n",
    "    for msg in output[i].strip().split(' '):\n",
    "        x.append(dec_blk(msg)[i])\n",
    "    output_string.append(x)\n",
    "#print(output_string)\n",
    "for k in range(8):\n",
    "    for i in range(1, 127):\n",
    "        for j in range(1, 128):\n",
    "          flag = True\n",
    "          for m in range(128):\n",
    "            if(ord(output_string[k][m]) != Exponentiate(F.Multiply(Exponentiate(F.Multiply(Exponentiate(ord(input_string[m]), i), j), i), j), i)):\n",
    "              flag = False\n",
    "              break\n",
    "          if(flag):\n",
    "            PossibleExponents[k].append(i)\n",
    "            possibleDiagonalVals[k][k].append(j)\n",
    "print(\"Possible diagonal values: \\n\")\n",
    "print(possibleDiagonalVals)\n",
    "print(\"\\n\\nPossible exponents: \\n\")\n",
    "print(PossibleExponents)\n",
    "\n",
    "\n",
    "output_string = []\n",
    "for i in range(len(output)-1):\n",
    "    x = []\n",
    "    for msg in output[i].strip().split(' '):\n",
    "        x.append(dec_blk(msg)[i+1])\n",
    "    output_string.append(x)\n",
    "\n",
    "for ind in range(7):\n",
    "  for i in range(1, 128):\n",
    "      for p1, e1 in zip(PossibleExponents[ind+1], possibleDiagonalVals[ind+1][ind+1]):\n",
    "          for p2, e2 in zip(PossibleExponents[ind], possibleDiagonalVals[ind][ind]):\n",
    "              for k in range(128):\n",
    "                  flag = True\n",
    "                  x1 = F.Multiply(Exponentiate(F.Multiply(Exponentiate(ord(input_string[k]), p2), e2), p2), i)\n",
    "                  x2 = F.Multiply(Exponentiate(F.Multiply(Exponentiate(ord(input_string[k]), p2), i), p1), e1)\n",
    "                  c1 = np.bitwise_xor(x1,x2)\n",
    "                  if(ord(output_string[ind][k]) != Exponentiate(c1,p1)):\n",
    "                      flag = False\n",
    "                      break\n",
    "              if flag:\n",
    "                  PossibleExponents[ind+1] = [p1]\n",
    "                  possibleDiagonalVals[ind+1][ind+1] = [e1]\n",
    "                  PossibleExponents[ind] = [p2]\n",
    "                  possibleDiagonalVals[ind][ind] = [e2]\n",
    "                  possibleDiagonalVals[ind][ind+1] = [i]\n",
    "print('\\n\\n===========================\\n\\n')\n",
    "print(\"Diagonal values: \\n\")\n",
    "print(possibleDiagonalVals)\n",
    "print(\"\\n\\nExponents: \\n\")\n",
    "print(PossibleExponents)\n"
   ]
  },
  {
   "cell_type": "code",
   "execution_count": 5,
   "id": "ff2fe30e",
   "metadata": {
    "ExecuteTime": {
     "end_time": "2022-03-30T17:10:57.960874Z",
     "start_time": "2022-03-30T17:10:46.861685Z"
    },
    "scrolled": true
   },
   "outputs": [
    {
     "name": "stdout",
     "output_type": "stream",
     "text": [
      "Linear Transformation Matrix :\n",
      " [[ 84   0   0   0   0   0   0   0]\n",
      " [113  70   0   0   0   0   0   0]\n",
      " [ 13  30  43   0   0   0   0   0]\n",
      " [100  23   1  12   0   0   0   0]\n",
      " [110  34   1 109 112   0   0   0]\n",
      " [ 25  44  28  53  98  11   0   0]\n",
      " [  2 122  23 103  27  95  27   0]\n",
      " [ 65   2  86  27  15  66   0  38]]\n",
      "\n",
      "\n",
      "\n",
      "Exponent Vector : \n",
      " [21, 115, 38, 71, 91, 45, 19, 22]\n"
     ]
    }
   ],
   "source": [
    "def EAEAE (msg, lin_mat, exp_mat):\n",
    "  msg = [ord(m) for m in msg]\n",
    "  exponents = [Exponentiate(msg[i], exp_mat[i]) for i in range(len(msg))]\n",
    "  linear_transformed = LinearTransform(lin_mat, exponents)\n",
    "  exponents_2 = [Exponentiate(linear_transformed[i], exp_mat[i]) for i in range(len(linear_transformed))]\n",
    "  linear_transformed_2 = LinearTransform(lin_mat, exponents_2)\n",
    "  final_output = [Exponentiate(linear_transformed_2[i], exp_mat[i]) for i in range(len(linear_transformed_2))]\n",
    "  return final_output\n",
    "  \n",
    "\n",
    "\n",
    "input_file = open('plaintexts.txt','r')\n",
    "output_file = open('ciphertexts.txt','r')\n",
    "input = input_file.readlines()\n",
    "output = output_file.readlines()\n",
    "\n",
    "\n",
    "\n",
    "input_string = [[dec_blk(msg) for msg in input[i].strip().split(' ')] for i in range(len(input))]\n",
    "output_string = [[dec_blk(msg) for msg in output[i].strip().split(' ')] for i in range(len(output))]\n",
    "\n",
    "for indexex in range(0,6):\n",
    "    offset = indexex + 2\n",
    "    \n",
    "    exp_list = [e[0] for e in PossibleExponents]\n",
    "    lin_trans_list = np.zeros((8,8),int)\n",
    "\n",
    "    for i in range(8):\n",
    "      for j in range(8):     \n",
    "        if(len(possibleDiagonalVals[i][j]) != 0):\n",
    "            lin_trans_list[i][j] = possibleDiagonalVals[i][j][0]\n",
    "        else:\n",
    "            lin_trans_list[i][j] = 0\n",
    "    \n",
    "    for index in range(8):\n",
    "        if(index > (7-offset)):\n",
    "            continue\n",
    "\n",
    "        for i in range(127):\n",
    "            lin_trans_list[index][index+offset] = i+1\n",
    "            flag = True\n",
    "            for inps, outs in zip(input_string[index], output_string[index]):\n",
    "                x1 = EAEAE(inps, lin_trans_list, exp_list)[index+offset]\n",
    "                x2 = outs[index+offset]\n",
    "                if x1 != ord(x2):\n",
    "                    flag = False\n",
    "                    break\n",
    "            if flag==True:\n",
    "                possibleDiagonalVals[index][index+offset] = [i+1]\n",
    "                \n",
    "A = np.zeros((8,8),dtype='int')\n",
    "\n",
    "for i in range(0,8):\n",
    "    for j in range(0,8):\n",
    "      if len(possibleDiagonalVals[j][i]) != 0:\n",
    "       A[i][j] = possibleDiagonalVals[j][i][0]\n",
    "\n",
    "\n",
    "\n",
    "E = exp_list\n",
    "\n",
    "print('Linear Transformation Matrix :\\n',A)\n",
    "print('\\n\\n')\n",
    "print('Exponent Vector : \\n',E)"
   ]
  },
  {
   "cell_type": "code",
   "execution_count": 6,
   "id": "b48659d1",
   "metadata": {
    "ExecuteTime": {
     "end_time": "2022-03-30T17:10:59.189160Z",
     "start_time": "2022-03-30T17:10:57.963867Z"
    }
   },
   "outputs": [],
   "source": [
    "E_inverse = np.zeros((128, 128), dtype = int)\n",
    "\n",
    "for base in range(0,128):\n",
    "    temp = 1\n",
    "    for power in range(1,127):\n",
    "        result = F.Multiply(temp, base)\n",
    "        E_inverse[power][result] = base\n",
    "        temp = result\n",
    "    \n",
    "GF = galois.GF(2**7)\n",
    "A = GF(A)\n",
    "invA = np.linalg.inv(A)"
   ]
  },
  {
   "cell_type": "code",
   "execution_count": 7,
   "id": "proud-shore",
   "metadata": {
    "ExecuteTime": {
     "end_time": "2022-03-30T17:10:59.266953Z",
     "start_time": "2022-03-30T17:10:59.191155Z"
    }
   },
   "outputs": [
    {
     "name": "stdout",
     "output_type": "stream",
     "text": [
      "\n",
      "\n",
      "Password is utomcrlsfj000000\n"
     ]
    }
   ],
   "source": [
    "password = \"lhgomlmjmohhmkmpjqkmksmngnglflif\" #Encrypted password\n",
    "GF = galois.GF(2**7)\n",
    "\n",
    "def E_inv(block, E):\n",
    "    new_list = []\n",
    "    for i in range(8):\n",
    "        new_list.append(E_inverse[E[i]][block[i]])\n",
    "    return new_list\n",
    "\n",
    "def A_inv(block, A):\n",
    "    return np.matmul(GF(A),GF(block))\n",
    "\n",
    "dec_pass = \"\"\n",
    "for i in range(0,2): \n",
    "    elements = password[16*i:16*(i+1)]\n",
    "    currentBlock = []\n",
    "    currentBlock += [(ord(elements[j]) - ord('f'))*16 + (ord(elements[j+1]) - ord('f')) for j in range(0, 15, 2)]\n",
    "\n",
    "    EAEAE = E_inv(A_inv(E_inv(A_inv(E_inv(currentBlock, E), invA),E), invA),E)\n",
    "    for ch in EAEAE:\n",
    "        dec_pass += chr(ch)\n",
    "    \n",
    "print(\"\\n\\nPassword is\",dec_pass)"
   ]
  },
  {
   "cell_type": "code",
   "execution_count": null,
   "id": "c7172f93",
   "metadata": {},
   "outputs": [],
   "source": []
  },
  {
   "cell_type": "code",
   "execution_count": null,
   "id": "2739eabb",
   "metadata": {},
   "outputs": [],
   "source": []
  },
  {
   "cell_type": "code",
   "execution_count": null,
   "id": "ea90e8d4",
   "metadata": {},
   "outputs": [],
   "source": []
  },
  {
   "cell_type": "code",
   "execution_count": null,
   "id": "290c2bdc",
   "metadata": {},
   "outputs": [],
   "source": []
  }
 ],
 "metadata": {
  "kernelspec": {
   "display_name": "Python 3 (ipykernel)",
   "language": "python",
   "name": "python3"
  },
  "language_info": {
   "codemirror_mode": {
    "name": "ipython",
    "version": 3
   },
   "file_extension": ".py",
   "mimetype": "text/x-python",
   "name": "python",
   "nbconvert_exporter": "python",
   "pygments_lexer": "ipython3",
   "version": "3.9.12"
  },
  "varInspector": {
   "cols": {
    "lenName": 16,
    "lenType": 16,
    "lenVar": 40
   },
   "kernels_config": {
    "python": {
     "delete_cmd_postfix": "",
     "delete_cmd_prefix": "del ",
     "library": "var_list.py",
     "varRefreshCmd": "print(var_dic_list())"
    },
    "r": {
     "delete_cmd_postfix": ") ",
     "delete_cmd_prefix": "rm(",
     "library": "var_list.r",
     "varRefreshCmd": "cat(var_dic_list()) "
    }
   },
   "types_to_exclude": [
    "module",
    "function",
    "builtin_function_or_method",
    "instance",
    "_Feature"
   ],
   "window_display": false
  }
 },
 "nbformat": 4,
 "nbformat_minor": 5
}
