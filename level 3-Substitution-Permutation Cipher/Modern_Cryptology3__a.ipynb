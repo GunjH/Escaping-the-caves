{
 "cells": [
  {
   "cell_type": "markdown",
   "id": "8dd2eb3b",
   "metadata": {},
   "source": [
    "### Shift Cipher: Trying to check whether shift cipher is meaningful or not"
   ]
  },
  {
   "cell_type": "code",
   "execution_count": 22,
   "id": "d2622382",
   "metadata": {},
   "outputs": [],
   "source": [
    "def bruteforce_shift_cipher(ciphertext):\n",
    "    for i in range(1, 26):\n",
    "        plaintext = \"\"\n",
    "        for char in ciphertext:\n",
    "            if char.isalpha():\n",
    "                char_code = ord(char)\n",
    "                if char.isupper():\n",
    "                    char_code -= i\n",
    "                    if char_code < ord('A'):\n",
    "                        char_code += 26\n",
    "                elif char.islower():\n",
    "                    char_code -= i\n",
    "                    if char_code < ord('a'):\n",
    "                        char_code += 26\n",
    "                plaintext += chr(char_code)\n",
    "            else:\n",
    "                plaintext += char\n",
    "        print(f\"Key: {i}, Plaintext: {plaintext}\")"
   ]
  },
  {
   "cell_type": "code",
   "execution_count": 23,
   "id": "94ae2207",
   "metadata": {},
   "outputs": [
    {
     "name": "stdout",
     "output_type": "stream",
     "text": [
      "Key: 1, Plaintext: plmiurz mu vdvb ekbs uoqi si suuokuk eu wiz uphkcgbwlkmub mzbxbkoz eb fxs ueuv. eu vfpxo, opp opbr x vrp qw plmiuzex bfu skuge bv sxk zdtp eu wiz sjau bpmrpr.kge zuzvmb bu dzr etpa pup sb xkkqpq wwvz bex. orcb tpezuqpb fdep oxzs sqzb wvu szz vvc cu dzr ekbap. uc sqzvlutop ptv w cdbfpbvs, xp xzek ukpr xpjkgp! rmzep ulkkgupozvq mpfuetrqdbvzvx po em vfzvcfe.\n",
      "Key: 2, Plaintext: oklhtqy lt ucua djar tnph rh rttnjtj dt vhy togjbfavkjlta lyawajny da ewr tdtu. dt ueown, noo noaq w uqo pv oklhtydw aet rjtfd au rwj ycso dt vhy rizt aolqoq.jfd ytyula at cyq dsoz oto ra wjjpop vvuy adw. nqba sodytpoa ecdo nwyr rpya vut ryy uub bt cyq djazo. tb rpyuktsno osu v bcaeoaur, wo wydj tjoq woijfo! qlydo tkjjftonyup loetdsqpcauyuw on dl ueyubed.\n",
      "Key: 3, Plaintext: njkgspx ks tbtz cizq smog qg qssmisi cs ugx snfiaezujiksz kxzvzimx cz dvq scst. cs tdnvm, mnn mnzp v tpn ou njkgsxcv zds qisec zt qvi xbrn cs ugx qhys znkpnp.iec xsxtkz zs bxp crny nsn qz viiono uutx zcv. mpaz rncxsonz dbcn mvxq qoxz uts qxx tta as bxp cizyn. sa qoxtjsrmn nrt u abzdnztq, vn vxci sinp vnhien! pkxcn sjiiesnmxto kndscrpobztxtv nm ck tdxtadc.\n",
      "Key: 4, Plaintext: mijfrow jr sasy bhyp rlnf pf prrlhrh br tfw rmehzdytihjry jwyuyhlw by cup rbrs. br scmul, lmm lmyo u som nt mijfrwbu ycr phrdb ys puh waqm br tfw pgxr ymjomo.hdb wrwsjy yr awo bqmx mrm py uhhnmn ttsw ybu. lozy qmbwrnmy cabm luwp pnwy tsr pww ssz zr awo bhyxm. rz pnwsirqlm mqs t zaycmysp, um uwbh rhmo umghdm! ojwbm rihhdrmlwsn jmcrbqonayswsu ml bj scwszcb.\n",
      "Key: 5, Plaintext: lhieqnv iq rzrx agxo qkme oe oqqkgqg aq sev qldgycxshgiqx ivxtxgkv ax bto qaqr. aq rbltk, kll klxn t rnl ms lhieqvat xbq ogqca xr otg vzpl aq sev ofwq xlinln.gca vqvrix xq zvn aplw lql ox tggmlm ssrv xat. knyx plavqmlx bzal ktvo omvx srq ovv rry yq zvn agxwl. qy omvrhqpkl lpr s yzxblxro, tl tvag qgln tlfgcl! nival qhggcqlkvrm ilbqapnmzxrvrt lk ai rbvryba.\n",
      "Key: 6, Plaintext: kghdpmu hp qyqw zfwn pjld nd nppjfpf zp rdu pkcfxbwrgfhpw huwswfju zw asn pzpq. zp qaksj, jkk jkwm s qmk lr kghdpuzs wap nfpbz wq nsf uyok zp rdu nevp wkhmkm.fbz upuqhw wp yum zokv kpk nw sfflkl rrqu wzs. jmxw okzuplkw ayzk jsun nluw rqp nuu qqx xp yum zfwvk. px nluqgpojk koq r xywakwqn, sk suzf pfkm skefbk! mhuzk pgffbpkjuql hkapzomlywquqs kj zh qauqxaz.\n",
      "Key: 7, Plaintext: jfgcolt go pxpv yevm oikc mc mooieoe yo qct ojbewavqfegov gtvrveit yv zrm oyop. yo pzjri, ijj ijvl r plj kq jfgcotyr vzo meoay vp mre txnj yo qct mduo vjgljl.eay totpgv vo xtl ynju joj mv reekjk qqpt vyr. ilwv njytokjv zxyj irtm mktv qpo mtt ppw wo xtl yevuj. ow mktpfonij jnp q wxvzjvpm, rj rtye oejl rjdeaj! lgtyj ofeeaojitpk gjzoynlkxvptpr ji yg pztpwzy.\n",
      "Key: 8, Plaintext: iefbnks fn owou xdul nhjb lb lnnhdnd xn pbs niadvzupedfnu fsuqudhs xu yql nxno. xn oyiqh, hii hiuk q oki jp iefbnsxq uyn ldnzx uo lqd swmi xn pbs lctn uifkik.dzx snsofu un wsk xmit ini lu qddjij ppos uxq. hkvu mixsnjiu ywxi hqsl ljsu pon lss oov vn wsk xduti. nv ljsoenmhi imo p vwuyiuol, qi qsxd ndik qicdzi! kfsxi neddznihsoj fiynxmkjwuosoq ih xf oysovyx.\n",
      "Key: 9, Plaintext: hdeamjr em nvnt wctk mgia ka kmmgcmc wm oar mhzcuytodcemt ertptcgr wt xpk mwmn. wm nxhpg, ghh ghtj p njh io hdeamrwp txm kcmyw tn kpc rvlh wm oar kbsm thejhj.cyw rmrnet tm vrj wlhs hmh kt pccihi oonr twp. gjut lhwrmiht xvwh gprk kirt onm krr nnu um vrj wctsh. mu kirndmlgh hln o uvtxhtnk, ph prwc mchj phbcyh! jerwh mdccymhgrni ehxmwljivtnrnp hg we nxrnuxw.\n",
      "Key: 10, Plaintext: gcdzliq dl mums vbsj lfhz jz jllfblb vl nzq lgybtxsncbdls dqsosbfq vs woj lvlm. vl mwgof, fgg fgsi o mig hn gcdzlqvo swl jblxv sm job qukg vl nzq jarl sgdigi.bxv qlqmds sl uqi vkgr glg js obbhgh nnmq svo. fits kgvqlhgs wuvg foqj jhqs nml jqq mmt tl uqi vbsrg. lt jhqmclkfg gkm n tuswgsmj, og oqvb lbgi ogabxg! idqvg lcbbxlgfqmh dgwlvkihusmqmo gf vd mwqmtwv.\n",
      "Key: 11, Plaintext: fbcykhp ck ltlr uari kegy iy ikkeaka uk myp kfxaswrmbackr cprnraep ur vni kukl. uk lvfne, eff efrh n lhf gm fbcykpun rvk iakwu rl ina ptjf uk myp izqk rfchfh.awu pkplcr rk tph ujfq fkf ir naagfg mmlp run. ehsr jfupkgfr vtuf enpi igpr mlk ipp lls sk tph uarqf. ks igplbkjef fjl m strvfrli, nf npua kafh nfzawf! hcpuf kbaawkfeplg cfvkujhgtrlpln fe uc lvplsvu.\n",
      "Key: 12, Plaintext: eabxjgo bj kskq tzqh jdfx hx hjjdzjz tj lxo jewzrvqlazbjq boqmqzdo tq umh jtjk. tj kuemd, dee deqg m kge fl eabxjotm quj hzjvt qk hmz osie tj lxo hypj qebgeg.zvt ojokbq qj sog tiep eje hq mzzfef llko qtm. dgrq ietojfeq uste dmoh hfoq lkj hoo kkr rj sog tzqpe. jr hfokajide eik l rsqueqkh, me motz jzeg meyzve! gbote jazzvjedokf beujtigfsqkokm ed tb kuokrut.\n",
      "Key: 13, Plaintext: dzawifn ai jrjp sypg icew gw giicyiy si kwn idvyqupkzyaip anplpycn sp tlg isij. si jtdlc, cdd cdpf l jfd ek dzawinsl pti gyius pj gly nrhd si kwn gxoi pdafdf.yus ninjap pi rnf shdo did gp lyyede kkjn psl. cfqp hdsniedp trsd clng genp kji gnn jjq qi rnf sypod. iq genjzihcd dhj k qrptdpjg, ld lnsy iydf ldxyud! fansd izyyuidcnje adtishferpjnjl dc sa jtnjqts.\n",
      "Key: 14, Plaintext: cyzvhem zh iqio rxof hbdv fv fhhbxhx rh jvm hcuxptojyxzho zmokoxbm ro skf hrhi. rh isckb, bcc bcoe k iec dj cyzvhmrk osh fxhtr oi fkx mqgc rh jvm fwnh oczece.xtr mhmizo oh qme rgcn chc fo kxxdcd jjim ork. bepo gcrmhdco sqrc bkmf fdmo jih fmm iip ph qme rxonc. hp fdmiyhgbc cgi j pqoscoif, kc kmrx hxce kcwxtc! ezmrc hyxxthcbmid zcshrgedqoimik cb rz ismipsr.\n",
      "Key: 15, Plaintext: bxyugdl yg hphn qwne gacu eu eggawgw qg iul gbtwosnixwygn ylnjnwal qn rje gqgh. qg hrbja, abb abnd j hdb ci bxyuglqj nrg ewgsq nh ejw lpfb qg iul evmg nbydbd.wsq lglhyn ng pld qfbm bgb en jwwcbc iihl nqj. adon fbqlgcbn rpqb ajle ecln ihg ell hho og pld qwnmb. go eclhxgfab bfh i opnrbnhe, jb jlqw gwbd jbvwsb! dylqb gxwwsgbalhc ybrgqfdcpnhlhj ba qy hrlhorq.\n",
      "Key: 16, Plaintext: awxtfck xf gogm pvmd fzbt dt dffzvfv pf htk fasvnrmhwvxfm xkmimvzk pm qid fpfg. pf gqaiz, zaa zamc i gca bh awxtfkpi mqf dvfrp mg div koea pf htk dulf maxcac.vrp kfkgxm mf okc peal afa dm ivvbab hhgk mpi. zcnm eapkfbam qopa zikd dbkm hgf dkk ggn nf okc pvmla. fn dbkgwfeza aeg h nomqamgd, ia ikpv fvac iauvra! cxkpa fwvvrfazkgb xaqfpecbomgkgi az px gqkgnqp.\n",
      "Key: 17, Plaintext: zvwsebj we fnfl oulc eyas cs ceeyueu oe gsj ezrumqlgvuwel wjlhluyj ol phc eoef. oe fpzhy, yzz yzlb h fbz ag zvwsejoh lpe cueqo lf chu jndz oe gsj ctke lzwbzb.uqo jejfwl le njb odzk zez cl huuaza ggfj loh. ybml dzojeazl pnoz yhjc cajl gfe cjj ffm me njb oulkz. em cajfvedyz zdf g mnlpzlfc, hz hjou euzb hztuqz! bwjoz evuuqezyjfa wzpeodbanlfjfh zy ow fpjfmpo.\n",
      "Key: 18, Plaintext: yuvrdai vd emek ntkb dxzr br bddxtdt nd fri dyqtlpkfutvdk vikgktxi nk ogb dnde. nd eoygx, xyy xyka g eay zf yuvrding kod btdpn ke bgt imcy nd fri bsjd kyvaya.tpn idievk kd mia ncyj ydy bk gttzyz ffei kng. xalk cynidzyk omny xgib bzik fed bii eel ld mia ntkjy. dl bzieudcxy yce f lmkoykeb, gy gint dtya gystpy! aviny duttpdyxiez vyodncazmkeieg yx nv eoielon.\n",
      "Key: 19, Plaintext: xtuqczh uc dldj msja cwyq aq accwscs mc eqh cxpskojetsucj uhjfjswh mj nfa cmcd. mc dnxfw, wxx wxjz f dzx ye xtuqchmf jnc ascom jd afs hlbx mc eqh aric jxuzxz.som hchduj jc lhz mbxi xcx aj fssyxy eedh jmf. wzkj bxmhcyxj nlmx wfha ayhj edc ahh ddk kc lhz msjix. ck ayhdtcbwx xbd e kljnxjda, fx fhms csxz fxrsox! zuhmx ctssocxwhdy uxncmbzyljdhdf xw mu dnhdknm.\n",
      "Key: 20, Plaintext: wstpbyg tb ckci lriz bvxp zp zbbvrbr lb dpg bworjnidsrtbi tgieirvg li mez blbc. lb cmwev, vww vwiy e cyw xd wstpbgle imb zrbnl ic zer gkaw lb dpg zqhb iwtywy.rnl gbgcti ib kgy lawh wbw zi errxwx ddcg ile. vyji awlgbxwi mklw vegz zxgi dcb zgg ccj jb kgy lrihw. bj zxgcsbavw wac d jkimwicz, ew eglr brwy ewqrnw! ytglw bsrrnbwvgcx twmblayxkicgce wv lt cmgcjml.\n",
      "Key: 21, Plaintext: vrsoaxf sa bjbh kqhy auwo yo yaauqaq ka cof avnqimhcrqsah sfhdhquf kh ldy akab. ka blvdu, uvv uvhx d bxv wc vrsoafkd hla yqamk hb ydq fjzv ka cof ypga hvsxvx.qmk fafbsh ha jfx kzvg vav yh dqqwvw ccbf hkd. uxih zvkfawvh ljkv udfy ywfh cba yff bbi ia jfx kqhgv. ai ywfbrazuv vzb c ijhlvhby, dv dfkq aqvx dvpqmv! xsfkv arqqmavufbw svlakzxwjhbfbd vu ks blfbilk.\n",
      "Key: 22, Plaintext: uqrnzwe rz aiag jpgx ztvn xn xzztpzp jz bne zumphlgbqprzg regcgpte jg kcx zjza. jz akuct, tuu tugw c awu vb uqrnzejc gkz xpzlj ga xcp eiyu jz bne xofz gurwuw.plj ezearg gz iew jyuf uzu xg cppvuv bbae gjc. twhg yujezvug kiju tcex xveg baz xee aah hz iew jpgfu. zh xveaqzytu uya b higkugax, cu cejp zpuw cuoplu! wreju zqpplzuteav rukzjywvigaeac ut jr akeahkj.\n",
      "Key: 23, Plaintext: tpqmyvd qy zhzf iofw ysum wm wyysoyo iy amd ytlogkfapoqyf qdfbfosd if jbw yiyz. iy zjtbs, stt stfv b zvt ua tpqmydib fjy woyki fz wbo dhxt iy amd wney ftqvtv.oki dydzqf fy hdv ixte tyt wf booutu aazd fib. svgf xtidyutf jhit sbdw wudf azy wdd zzg gy hdv iofet. yg wudzpyxst txz a ghfjtfzw, bt bdio yotv btnokt! vqdit ypookytsdzu qtjyixvuhfzdzb ts iq zjdzgji.\n",
      "Key: 24, Plaintext: soplxuc px ygye hnev xrtl vl vxxrnxn hx zlc xsknfjezonpxe pceaenrc he iav xhxy. hx yisar, rss rseu a yus tz soplxcha eix vnxjh ey van cgws hx zlc vmdx espusu.njh cxcype ex gcu hwsd sxs ve anntst zzyc eha. rufe wshcxtse ighs racv vtce zyx vcc yyf fx gcu hneds. xf vtcyoxwrs swy z fgeiseyv, as achn xnsu asmnjs! upchs xonnjxsrcyt psixhwutgeycya sr hp yicyfih.\n",
      "Key: 25, Plaintext: rnokwtb ow xfxd gmdu wqsk uk uwwqmwm gw ykb wrjmeidynmowd obdzdmqb gd hzu wgwx. gw xhrzq, qrr qrdt z xtr sy rnokwbgz dhw umwig dx uzm bfvr gw ykb ulcw drotrt.mig bwbxod dw fbt gvrc rwr ud zmmsrs yyxb dgz. qted vrgbwsrd hfgr qzbu usbd yxw ubb xxe ew fbt gmdcr. we usbxnwvqr rvx y efdhrdxu, zr zbgm wmrt zrlmir! tobgr wnmmiwrqbxs orhwgvtsfdxbxz rq go xhbxehg.\n"
     ]
    }
   ],
   "source": [
    "ciphertext =\"qmnjvsa nv wewc flct vprj tj tvvplvl fv xja vqildhcxmlnvc nacyclpa fc gyt vfvw. fv wgqyp, pqq pqcs y wsq rx qmnjvafy cgv tlvhf cw tyl aeuq fv xja tkbv cqnsqs.lhf avawnc cv eas fuqb qvq tc yllrqr xxwa cfy. psdc uqfavrqc gefq pyat trac xwv taa wwd dv eas flcbq. vd trawmvupq quw x decgqcwt, yq yafl vlqs yqklhq! snafq vmllhvqpawr nqgvfusrecwawy qp fn wgawdgf.\"\n",
    "bruteforce_shift_cipher(ciphertext)"
   ]
  },
  {
   "cell_type": "markdown",
   "id": "4e025c9d",
   "metadata": {},
   "source": [
    "### Frequency Analysis : Unigrams"
   ]
  },
  {
   "cell_type": "code",
   "execution_count": 24,
   "id": "8eddb839",
   "metadata": {},
   "outputs": [],
   "source": [
    "def frequency_analysis(ciphertext):\n",
    "    \n",
    "    freq_dict = {}\n",
    "    for char in ciphertext:\n",
    "        if char.isalpha():\n",
    "            if char in freq_dict:\n",
    "                freq_dict[char] += 1\n",
    "            else:\n",
    "                freq_dict[char] = 1\n",
    "   \n",
    "    freq_dict = dict(sorted(freq_dict.items(), key=lambda item: item[1], reverse=True))\n",
    "    \n",
    "    print(\"Frequency:\", freq_dict)"
   ]
  },
  {
   "cell_type": "code",
   "execution_count": 25,
   "id": "4cbd254f",
   "metadata": {},
   "outputs": [
    {
     "name": "stdout",
     "output_type": "stream",
     "text": [
      "Frequency: {'q': 30, 'v': 29, 'a': 23, 'c': 22, 'w': 19, 'f': 19, 'l': 17, 't': 13, 'y': 13, 's': 11, 'p': 11, 'n': 10, 'r': 9, 'x': 8, 'g': 8, 'e': 7, 'd': 7, 'j': 6, 'u': 6, 'm': 5, 'h': 5, 'b': 3, 'k': 2, 'i': 1}\n"
     ]
    }
   ],
   "source": [
    "ciphertext = \"qmnjvsa nv wewc flct vprj tj tvvplvl fv xja vqildhc xmlnvc nacyclpa fc gyt vfvw. fv wgqyp, pqq pqcs y wsq rx qmnjvafy cgv tlvhf cw tyl aeuq fv xja tkbv cqnsqs.lhf avawnc cv eas fuqb qvq tc yllrqr xxwa cfy. psdc uqfavrqc gefq pyat trac xwv taa wwd dv eas flcbq. vd trawm vupq quw x decgqcwt, yq yafl vlqs yqklhq! snafq vml lhvqpawr nqg_vfusr_ec_wawy qp fn wgawdgf.\"\n",
    "frequency_analysis(ciphertext)"
   ]
  },
  {
   "cell_type": "markdown",
   "id": "d795653c",
   "metadata": {},
   "source": [
    "### Bigram Analysis"
   ]
  },
  {
   "cell_type": "code",
   "execution_count": 26,
   "id": "ef7138a3",
   "metadata": {},
   "outputs": [],
   "source": [
    "def letter_pair_analysis(ciphertext):\n",
    "    \n",
    "    freq_dict = {}\n",
    "    for i in range(len(ciphertext)-1):\n",
    "        if ciphertext[i].isalpha() and ciphertext[i+1].isalpha():\n",
    "            letter_pair = ciphertext[i] + ciphertext[i+1]\n",
    "            if letter_pair in freq_dict:\n",
    "                freq_dict[letter_pair] += 1\n",
    "            else:\n",
    "                freq_dict[letter_pair] = 1\n",
    "   \n",
    "    freq_dict = dict(sorted(freq_dict.items(), key=lambda item: item[1], reverse=True))\n",
    "    \n",
    "    print(\"Frequency:\", freq_dict)\n"
   ]
  },
  {
   "cell_type": "code",
   "execution_count": 27,
   "id": "c1b14ed2",
   "metadata": {},
   "outputs": [
    {
     "name": "stdout",
     "output_type": "stream",
     "text": [
      "Frequency: {'aw': 5, 'fv': 4, 'fl': 3, 'vq': 3, 'pq': 3, 'qc': 3, 'af': 3, 'uq': 3, 'lh': 3, 'qm': 2, 'mn': 2, 'nj': 2, 'jv': 2, 'nv': 2, 'lc': 2, 'vp': 2, 'lv': 2, 'vl': 2, 'xj': 2, 'ja': 2, 'ml': 2, 'na': 2, 'ac': 2, 'pa': 2, 'vf': 2, 'wg': 2, 'gq': 2, 'sq': 2, 'va': 2, 'fy': 2, 'cg': 2, 'hf': 2, 'cw': 2, 'yl': 2, 'qs': 2, 'av': 2, 'ea': 2, 'as': 2, 'fu': 2, 'rq': 2, 'xw': 2, 'wa': 2, 'fq': 2, 'ya': 2, 'tr': 2, 'ra': 2, 'wd': 2, 'ec': 2, 'yq': 2, 'qp': 2, 'vs': 1, 'sa': 1, 'we': 1, 'ew': 1, 'wc': 1, 'ct': 1, 'pr': 1, 'rj': 1, 'tj': 1, 'tv': 1, 'vv': 1, 'pl': 1, 'qi': 1, 'il': 1, 'ld': 1, 'dh': 1, 'hc': 1, 'xm': 1, 'ln': 1, 'vc': 1, 'cy': 1, 'yc': 1, 'cl': 1, 'lp': 1, 'fc': 1, 'gy': 1, 'yt': 1, 'vw': 1, 'qy': 1, 'yp': 1, 'qq': 1, 'cs': 1, 'ws': 1, 'rx': 1, 'gv': 1, 'tl': 1, 'vh': 1, 'ty': 1, 'ae': 1, 'eu': 1, 'tk': 1, 'kb': 1, 'bv': 1, 'cq': 1, 'qn': 1, 'ns': 1, 'wn': 1, 'nc': 1, 'cv': 1, 'qb': 1, 'qv': 1, 'tc': 1, 'll': 1, 'lr': 1, 'qr': 1, 'xx': 1, 'cf': 1, 'ps': 1, 'sd': 1, 'dc': 1, 'qf': 1, 'fa': 1, 'vr': 1, 'ge': 1, 'ef': 1, 'py': 1, 'at': 1, 'wv': 1, 'ta': 1, 'aa': 1, 'ww': 1, 'dv': 1, 'cb': 1, 'bq': 1, 'vd': 1, 'wm': 1, 'vu': 1, 'up': 1, 'qu': 1, 'uw': 1, 'de': 1, 'wt': 1, 'lq': 1, 'qk': 1, 'kl': 1, 'hq': 1, 'sn': 1, 'vm': 1, 'hv': 1, 'wr': 1, 'nq': 1, 'qg': 1, 'us': 1, 'sr': 1, 'wy': 1, 'fn': 1, 'ga': 1, 'dg': 1, 'gf': 1}\n"
     ]
    }
   ],
   "source": [
    "ciphertext = \"qmnjvsa nv wewc flct vprj tj tvvplvl fv xja vqildhc xmlnvc nacyclpa fc gyt vfvw. fv wgqyp, pqq pqcs y wsq rx qmnjvafy cgv tlvhf cw tyl aeuq fv xja tkbv cqnsqs.lhf avawnc cv eas fuqb qvq tc yllrqr xxwa cfy. psdc uqfavrqc gefq pyat trac xwv taa wwd dv eas flcbq. vd trawm vupq quw x decgqcwt, yq yafl vlqs yqklhq! snafq vml lhvqpawr nqg_vfusr_ec_wawy qp fn wgawdgf.\"\n",
    "letter_pair_analysis(ciphertext)"
   ]
  },
  {
   "cell_type": "markdown",
   "id": "ce18a205",
   "metadata": {},
   "source": [
    "## Trigram Analysis"
   ]
  },
  {
   "cell_type": "code",
   "execution_count": 28,
   "id": "e2083628",
   "metadata": {},
   "outputs": [],
   "source": [
    "import re\n",
    "from collections import Counter\n",
    "\n",
    "def trigram_analysis(ciphertext):\n",
    "    # Remove non-letter characters and convert to lowercase\n",
    "    ciphertext = re.sub(r'[^a-z]', '', ciphertext.lower())\n",
    "\n",
    "    # Count frequency of trigrams\n",
    "    trigrams = [ciphertext[i:i+3] for i in range(len(ciphertext)-2)]\n",
    "    trigram_counts = Counter(trigrams)\n",
    "\n",
    "    # Print top 10 most frequent trigrams\n",
    "    for trigram, count in trigram_counts.most_common(10):\n",
    "        print(trigram, count)"
   ]
  },
  {
   "cell_type": "code",
   "execution_count": 29,
   "id": "90f7f971",
   "metadata": {},
   "outputs": [
    {
     "name": "stdout",
     "output_type": "stream",
     "text": [
      "qmn 2\n",
      "mnj 2\n",
      "njv 2\n",
      "flc 2\n",
      "lvl 2\n",
      "fvx 2\n",
      "vxj 2\n",
      "xja 2\n",
      "fvw 2\n",
      "pqq 2\n"
     ]
    }
   ],
   "source": [
    "ciphertext = \"qmnjvsa nv wewc flct vprj tj tvvplvl fv xja vqildhc xmlnvc nacyclpa fc gyt vfvw. fv wgqyp, pqq pqcs y wsq rx qmnjvafy cgv tlvhf cw tyl aeuq fv xja tkbv cqnsqs.lhf avawnc cv eas fuqb qvq tc yllrqr xxwa cfy. psdc uqfavrqc gefq pyat trac xwv taa wwd dv eas flcbq. vd trawm vupq quw x decgqcwt, yq yafl vlqs yqklhq! snafq vml lhvqpawr nqg_vfusr_ec_wawy qp fn wgawdgf.\"\n",
    "trigram_analysis(ciphertext)"
   ]
  },
  {
   "cell_type": "code",
   "execution_count": null,
   "id": "8ab279eb",
   "metadata": {},
   "outputs": [],
   "source": []
  }
 ],
 "metadata": {
  "kernelspec": {
   "display_name": "Python 3 (ipykernel)",
   "language": "python",
   "name": "python3"
  },
  "language_info": {
   "codemirror_mode": {
    "name": "ipython",
    "version": 3
   },
   "file_extension": ".py",
   "mimetype": "text/x-python",
   "name": "python",
   "nbconvert_exporter": "python",
   "pygments_lexer": "ipython3",
   "version": "3.10.6"
  }
 },
 "nbformat": 4,
 "nbformat_minor": 5
}
