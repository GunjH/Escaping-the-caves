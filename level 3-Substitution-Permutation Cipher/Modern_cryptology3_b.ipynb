{
 "cells": [
  {
   "cell_type": "code",
   "execution_count": 2,
   "id": "b6cb99d7",
   "metadata": {},
   "outputs": [],
   "source": []
  },
  {
   "cell_type": "code",
   "execution_count": 31,
   "id": "8fe892cb",
   "metadata": {},
   "outputs": [
    {
     "name": "stdout",
     "output_type": "stream",
     "text": [
      "qmnjvsanvwewcflctvprjtjtvvplvlfvxjavqildhcxmlnvcnacyclpafcgytvfvwfvwgqyppqqpqcsywsqrxqmnjvafycgvtlvhfcwtylaeuqfvxjatkbvcqnsqslhfavawnccveasfuqbqvqtcyllrqrxxwacfypsdcuqfavrqcgefqpyattracxwvtaawwddveasflcbqvdtrawmvupqquwxdecgqcwtyqyaflvlqsyqklhqsnafqvmllhvqpawrnqgvfusrecwawyqpfnwgawdgf\n"
     ]
    }
   ],
   "source": [
    "#code to remove all the spaces and special character\n",
    "import re\n",
    "\n",
    "cipher_text = \"qmnjvsa nv wewc flct vprj tj tvvplvl fv xja vqildhc xmlnvc nacyclpa fc gyt vfvw. fv wgqyp, pqq pqcs y wsq rx qmnjvafy cgv tlvhf cw tyl aeuq fv xja tkbv cqnsqs. lhf avawnc cv eas fuqb qvq tc yllrqr xxwa cfy. psdc uqf avrqc gefq pyat trac xwv taa wwd dv eas flcbq. vd trawm vupq quw x decgqcwt, yq yafl vlqs yqklhq! snafq vml lhvqpawr nqg_vfusr_ec_wawy qp fn wgawdgf.\"\n",
    "\n",
    "ciphertext = cipher_text.strip()\n",
    "ciphertext = re.sub(r\"[^a-zA-Z0-9\\s]\", \"\", ciphertext)\n",
    "ciphertext = re.sub(r\"\\s+\", \"\", ciphertext)\n",
    "\n",
    "print(ciphertext)\n"
   ]
  },
  {
   "cell_type": "code",
   "execution_count": 32,
   "id": "d2f168cc",
   "metadata": {},
   "outputs": [
    {
     "name": "stdout",
     "output_type": "stream",
     "text": [
      "jnvqmvnwsafclewpvrcttjvjtvllvpjxafvlidvqmxlhcncanvlcpcygcyafvfwtvgwqfvqpqypscypqrqxwsjnvqmcygafvlhvttwyfcueqlajxafvvbctkqssqnafvlhcncawsafveqbvuqyclqtrqxlrcafxwdscypafvuqgcerqypafqarctttvaxwdwdawsafveqbvlcarwdtpuqmvxwdquqgcecqyywtvllafqykqssqnlhvqmafvhqllrwnpafvuqgcewsrqypawgwafnwdgf\n"
     ]
    }
   ],
   "source": [
    "def permutation_decipher(ciphertext):\n",
    "    key = [4, 3, 5, 1, 2] #that we have founded\n",
    "    block_size = 5\n",
    "    \n",
    "    \n",
    "\n",
    "    # number of full_blocks in the ciphertext\n",
    "    num_blocks = (len(ciphertext)) // block_size\n",
    "    \n",
    "    # number of last_letter in the ciphertext\n",
    "    last_block_letter = (len(ciphertext)) % block_size\n",
    "    \n",
    "    last_letters = ciphertext[-4:]\n",
    "    \n",
    "    \n",
    "\n",
    "    # Initialize a list to hold the plaintext blocks\n",
    "    plaintext_blocks = [''] * num_blocks\n",
    "\n",
    "    # Loop through each block of the ciphertext\n",
    "    for i in range(num_blocks):\n",
    "        # Initialize a list to hold the characters in the block\n",
    "        block_chars = [''] * block_size\n",
    "\n",
    "        # Loop through each character in the block\n",
    "        for j in range(block_size):\n",
    "            # Calculate the index of the character in the ciphertext\n",
    "            ciphertext_index = i * block_size + key[j] - 1\n",
    "\n",
    "            # If the calculated index is out of range, use a space character\n",
    "            ciphertext_char = ciphertext[ciphertext_index] if ciphertext_index < len(ciphertext) else ' '\n",
    "\n",
    "            # Store the character in the block list\n",
    "            block_chars[j] = ciphertext_char\n",
    "\n",
    "        # Join the characters in the block list into a string\n",
    "        plaintext_block = ''.join(block_chars)\n",
    "\n",
    "        # Add the plaintext block to the plaintext blocks list\n",
    "        plaintext_blocks[i] = plaintext_block\n",
    "\n",
    "    # Join the plaintext blocks into a single string and return it\n",
    "    plaintext = ''.join(plaintext_blocks)\n",
    "    return plaintext+last_letters\n",
    "\n",
    "\n",
    "\n",
    "new_cipher_test = permutation_decipher(ciphertext)\n",
    "print(new_cipher_test) # Output: PLAINTEXTXAMPLECEXT"
   ]
  },
  {
   "cell_type": "code",
   "execution_count": 47,
   "id": "cad95193",
   "metadata": {},
   "outputs": [
    {
     "name": "stdout",
     "output_type": "stream",
     "text": [
      "breakerofthiscodewillbeblessedbythesqueakyspiritresidingintheholegoaheadandfindawayofbreakingthespellonhimcastbytheeviljaffarthespiritofthecavemanisalwayswithyoufindthemagicwandthatwillletyououtofthecavesitwouldmakeyouamagiciannolessthanjaffarspeakthepasswordthemagicofwandtogothrough\n",
      "Mapped Ciphertext: breaker of this code will be blessed by the squeaky spirit residing in the hole. go ahead, and find a way of breaking the spell on him cast by the evil jaffar. the spirit of the cave man is always with you. find the magic wand that will let you out of the caves. it would make you a magician, no less than jaffar! speak the password the_magic_of_wand to go through.\n"
     ]
    }
   ],
   "source": [
    "def ciphertext_mapping(new_cipher_test, key):\n",
    "    \n",
    "    mapped_ciphertext = []\n",
    "    for char in new_cipher_test:\n",
    "        \n",
    "        mapped_ciphertext.append(key[char])\n",
    "        \n",
    "            \n",
    "    \n",
    "    mapped_ciphertext = ''.join(mapped_ciphertext)\n",
    "    print(mapped_ciphertext)\n",
    "    \n",
    "    output=\"\"\n",
    "    \n",
    "    punctuations = set(['!','@','#','$','%','^','&','(',')','_','-','+','=','{','}',';',':','/','?','|','.',' ',',','~','`','[',']','-'])\n",
    "    j = 0 \n",
    "    for i in range(len(cipher_text)):\n",
    "      \n",
    "        if cipher_text[i] in punctuations:\n",
    "            output += cipher_text[i]\n",
    "        else:\n",
    "            output += mapped_ciphertext[j]\n",
    "            j+= 1\n",
    "    \n",
    "       \n",
    "    \n",
    "    print(\"Mapped Ciphertext:\", output)\n",
    "\n",
    "key = {'a': 't', 'b': 'v', 'c': 'i', 'd': 'u', 'e': 'c', 'f': 'h', 'g': 'g', 'h': 'p', 'i': 'q', 'j': 'b', 'l': 's', 'm': 'k', 'n': 'r', 'p': 'd', 'q': 'a', 'r': 'w', 's': 'f', 't': 'l', 'u': 'm', 'v': 'e', 'w': 'o', 'x': 'y', 'y': 'n','k':'j'}\n",
    "\n",
    "ciphertext_mapping(new_cipher_test, key)"
   ]
  },
  {
   "cell_type": "code",
   "execution_count": null,
   "id": "8a048187",
   "metadata": {},
   "outputs": [],
   "source": [
    "    "
   ]
  },
  {
   "cell_type": "code",
   "execution_count": null,
   "id": "ef69e0d1",
   "metadata": {},
   "outputs": [],
   "source": []
  }
 ],
 "metadata": {
  "kernelspec": {
   "display_name": "Python 3 (ipykernel)",
   "language": "python",
   "name": "python3"
  },
  "language_info": {
   "codemirror_mode": {
    "name": "ipython",
    "version": 3
   },
   "file_extension": ".py",
   "mimetype": "text/x-python",
   "name": "python",
   "nbconvert_exporter": "python",
   "pygments_lexer": "ipython3",
   "version": "3.8.10"
  }
 },
 "nbformat": 4,
 "nbformat_minor": 5
}
