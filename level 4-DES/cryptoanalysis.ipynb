{
 "cells": [
  {
   "cell_type": "code",
   "execution_count": 2,
   "metadata": {
    "ExecuteTime": {
     "end_time": "2022-03-10T16:18:19.620825Z",
     "start_time": "2022-03-10T16:18:17.829843Z"
    },
    "id": "0VCRxMMKHWJu"
   },
   "outputs": [],
   "source": [
    "import numpy as np"
   ]
  },
  {
   "cell_type": "code",
   "execution_count": 3,
   "metadata": {
    "ExecuteTime": {
     "end_time": "2022-03-10T16:18:19.730181Z",
     "start_time": "2022-03-10T16:18:19.654385Z"
    },
    "id": "h4fMtImBHrLf"
   },
   "outputs": [],
   "source": [
    "from constants import E,INVP,sbox,f2u_mapping,PC2,RFP,shift_table,key_comp,map_values,initial_perm,sboxper,final_perm,plain_text1,cipher_text2\n",
    "from functions import hexCipher,ITFP,Xor_cipher,Expanded,Xor_sbox,Xor_e_sbox,keys_6,xor_l5_l6,max_mean_key_value,find_key,permute,shift,roundkey,encryption"
   ]
  },
  {
   "cell_type": "code",
   "execution_count": 4,
   "metadata": {
    "ExecuteTime": {
     "end_time": "2022-03-10T16:18:23.899238Z",
     "start_time": "2022-03-10T16:18:19.735169Z"
    },
    "colab": {
     "base_uri": "https://localhost:8080/"
    },
    "id": "rGQG2NeDIIEq",
    "outputId": "70c535f1-6101-48ca-f868-f97b183f5e0b"
   },
   "outputs": [
    {
     "name": "stdout",
     "output_type": "stream",
     "text": [
      "[[646. 558. 666. 612. 627. 645. 619. 646. 594. 629. 618. 637. 585. 581.\n",
      "  625. 627. 632. 600. 585. 627. 597. 622. 641. 636. 614. 631. 630. 581.\n",
      "  681. 635. 589. 634. 597. 605. 618. 621. 594. 588. 623. 627. 615. 616.\n",
      "  671. 625. 666. 615. 631. 642. 640. 632. 639. 618. 593. 629. 600. 637.\n",
      "  648. 648. 628. 640. 619. 649. 590. 644.]\n",
      " [639. 636. 659. 638. 672. 640. 630. 618. 627. 661. 652. 633. 617. 642.\n",
      "  597. 640. 648. 663. 622. 610. 618. 675. 603. 621. 663. 647. 673. 626.\n",
      "  606. 601. 635. 632. 629. 668. 655. 631. 638. 648. 626. 614. 654. 602.\n",
      "  637. 591. 615. 686. 643. 596. 639. 646. 684. 646. 616. 631. 619. 642.\n",
      "  631. 677. 636. 633. 660. 626. 635. 658.]\n",
      " [665. 641. 605. 602. 620. 599. 586. 554. 614. 655. 617. 614. 591. 581.\n",
      "  625. 592. 647. 615. 592. 625. 610. 673. 626. 645. 665. 588. 634. 625.\n",
      "  623. 690. 623. 640. 629. 629. 626. 577. 609. 623. 628. 629. 579. 631.\n",
      "  619. 619. 595. 591. 608. 601. 620. 633. 565. 596. 661. 620. 609. 620.\n",
      "  611. 596. 631. 632. 643. 634. 608. 640.]\n",
      " [629. 625. 576. 632. 661. 614. 613. 618. 653. 648. 598. 635. 586. 619.\n",
      "  631. 653. 624. 618. 656. 636. 669. 626. 660. 617. 631. 578. 599. 609.\n",
      "  624. 638. 646. 635. 620. 657. 643. 638. 590. 593. 645. 620. 563. 609.\n",
      "  659. 598. 601. 628. 606. 670. 641. 637. 650. 605. 623. 600. 626. 610.\n",
      "  602. 594. 619. 606. 627. 668. 580. 621.]\n",
      " [593. 605. 576. 660. 624. 579. 654. 625. 561. 636. 605. 639. 623. 626.\n",
      "  648. 620. 648. 623. 627. 627. 622. 683. 652. 628. 591. 605. 633. 595.\n",
      "  644. 598. 600. 615. 630. 678. 577. 645. 640. 607. 602. 625. 700. 609.\n",
      "  625. 598. 635. 669. 630. 600. 612. 622. 645. 612. 595. 616. 608. 653.\n",
      "  636. 633. 625. 644. 604. 647. 634. 635.]\n",
      " [652. 606. 610. 635. 642. 624. 625. 598. 623. 613. 605. 600. 606. 659.\n",
      "  660. 637. 585. 596. 631. 591. 593. 617. 610. 638. 637. 643. 623. 628.\n",
      "  686. 645. 578. 661. 637. 650. 634. 618. 580. 618. 611. 608. 605. 613.\n",
      "  662. 656. 616. 568. 591. 647. 645. 613. 605. 640. 644. 641. 664. 608.\n",
      "  600. 657. 609. 627. 642. 622. 608. 616.]\n",
      " [615. 604. 674. 635. 634. 588. 642. 615. 624. 641. 622. 641. 548. 625.\n",
      "  631. 636. 605. 613. 615. 600. 631. 658. 661. 594. 589. 628. 625. 598.\n",
      "  617. 606. 622. 598. 595. 636. 609. 670. 614. 600. 623. 633. 598. 621.\n",
      "  631. 673. 644. 609. 624. 615. 623. 638. 642. 627. 594. 607. 608. 593.\n",
      "  610. 630. 590. 622. 617. 602. 591. 622.]\n",
      " [634. 597. 637. 642. 676. 679. 615. 639. 641. 644. 655. 635. 575. 664.\n",
      "  617. 637. 632. 631. 663. 629. 684. 649. 629. 592. 637. 627. 657. 634.\n",
      "  645. 638. 639. 605. 628. 656. 670. 677. 607. 638. 643. 650. 633. 628.\n",
      "  645. 619. 600. 593. 652. 644. 595. 664. 640. 635. 619. 675. 650. 598.\n",
      "  654. 614. 641. 633. 635. 626. 636. 668.]]\n"
     ]
    }
   ],
   "source": [
    "#Computing XORs at IN and OUT of S-boxes for characteristic 40 08 00 00 04 00 00 00\n",
    "\n",
    "\n",
    "cipher_t = open('ciphertext01.txt').read().split(\"\\n\")\n",
    "\n",
    "hexcipher = hexCipher(cipher_t,map_values)\n",
    "\n",
    "\n",
    "##Inverse the final permutation\n",
    "invres = ITFP(hexcipher,RFP)\n",
    "\n",
    "##Xoring the ciphertext pairs according to differential\n",
    "resxor = Xor_cipher(invres)\n",
    "\n",
    "##Expanding Right side block of Round 5\n",
    "expanded = Expanded(invres,E)\n",
    "\n",
    "##Xoring expanded to compute s box input\n",
    "sin = Xor_e_sbox(expanded)\n",
    "\n",
    "##Xoring L5 and R6\n",
    "L5 = [0,0,0,0,0,1]+[0]*26\n",
    "inxor = xor_l5_l6(resxor,L5)\n",
    "\n",
    "##Xoring sbox outputs\n",
    "sxor = Xor_sbox(inxor,INVP)\n",
    "\n",
    "##Finding the Keys  corresponding to Round 6 for above charcateristic\n",
    "keys = keys_6(sin,sxor,expanded,sbox)\n",
    "\n",
    "print(keys)"
   ]
  },
  {
   "cell_type": "code",
   "execution_count": 5,
   "metadata": {
    "ExecuteTime": {
     "end_time": "2022-03-10T16:18:23.947123Z",
     "start_time": "2022-03-10T16:18:23.906219Z"
    },
    "colab": {
     "base_uri": "https://localhost:8080/"
    },
    "id": "kgKwT-c6XkZk",
    "outputId": "056d987d-767f-47c7-fd1a-35b4e947e4c7"
   },
   "outputs": [
    {
     "name": "stdout",
     "output_type": "stream",
     "text": [
      "S1  [681.0,622] key = 28\n",
      "S2  [686.0,636] key = 45\n",
      "S3  [690.0,618] key = 29\n",
      "S4  [670.0,623] key = 47\n",
      "S5  [700.0,624] key = 40\n",
      "S6  [686.0,623] key = 28\n",
      "S7  [674.0,619] key = 2\n",
      "S8  [684.0,636] key = 20\n"
     ]
    }
   ],
   "source": [
    "max_v,mean_v,key_v = max_mean_key_value(keys)\n",
    " \n",
    "#[max,mean,key] value for each block\n",
    "for i in range(0,8):     \n",
    "  print(\"S\"+ str(i+1) +\"  [\"+ str(max_v[i]) + \",\" + str(mean_v[i]) + \"] key = \" + str(key_v[i]))"
   ]
  },
  {
   "cell_type": "code",
   "execution_count": 6,
   "metadata": {},
   "outputs": [
    {
     "name": "stdout",
     "output_type": "stream",
     "text": [
      "[[647. 670. 613. 665. 617. 623. 545. 602. 627. 650. 641. 611. 612. 636.\n",
      "  630. 644. 571. 661. 647. 626. 616. 626. 660. 631. 610. 610. 617. 597.\n",
      "  665. 611. 646. 641. 623. 635. 616. 664. 641. 634. 639. 640. 621. 624.\n",
      "  644. 601. 647. 624. 641. 678. 654. 657. 629. 665. 631. 617. 656. 588.\n",
      "  665. 632. 611. 631. 612. 644. 625. 631.]\n",
      " [664. 618. 615. 615. 613. 652. 645. 603. 626. 606. 598. 591. 678. 638.\n",
      "  638. 632. 643. 641. 631. 638. 617. 658. 646. 627. 623. 608. 617. 599.\n",
      "  615. 627. 571. 648. 660. 635. 633. 617. 654. 619. 605. 656. 636. 611.\n",
      "  590. 646. 628. 589. 632. 637. 639. 669. 583. 634. 631. 651. 637. 621.\n",
      "  655. 619. 602. 622. 641. 634. 619. 628.]\n",
      " [657. 679. 598. 589. 577. 586. 617. 611. 638. 656. 635. 654. 617. 596.\n",
      "  614. 598. 608. 638. 593. 621. 614. 617. 645. 613. 624. 652. 612. 632.\n",
      "  628. 589. 609. 627. 603. 628. 570. 605. 629. 608. 614. 626. 605. 588.\n",
      "  621. 618. 621. 583. 650. 622. 612. 639. 619. 638. 631. 626. 654. 583.\n",
      "  645. 650. 625. 625. 603. 588. 621. 648.]\n",
      " [660. 589. 613. 661. 615. 614. 589. 644. 626. 610. 642. 638. 650. 596.\n",
      "  631. 640. 611. 638. 636. 595. 642. 604. 615. 608. 644. 626. 622. 639.\n",
      "  639. 606. 657. 625. 661. 641. 651. 657. 620. 638. 604. 649. 592. 622.\n",
      "  638. 629. 620. 597. 615. 661. 618. 658. 602. 609. 641. 686. 629. 605.\n",
      "  633. 642. 573. 601. 633. 604. 627. 653.]\n",
      " [642. 622. 634. 621. 605. 614. 639. 633. 597. 587. 589. 608. 562. 601.\n",
      "  648. 636. 596. 654. 622. 621. 637. 627. 571. 608. 634. 615. 617. 584.\n",
      "  612. 619. 673. 627. 634. 643. 594. 601. 609. 657. 593. 628. 610. 599.\n",
      "  657. 574. 626. 597. 628. 595. 581. 632. 611. 640. 620. 609. 625. 632.\n",
      "  640. 608. 594. 619. 623. 606. 652. 650.]\n",
      " [678. 669. 615. 574. 669. 625. 633. 611. 645. 597. 629. 661. 657. 641.\n",
      "  591. 618. 642. 655. 656. 670. 619. 582. 607. 626. 587. 595. 625. 671.\n",
      "  659. 575. 665. 643. 659. 638. 648. 611. 605. 618. 620. 589. 617. 579.\n",
      "  626. 653. 614. 644. 623. 607. 598. 635. 595. 614. 613. 595. 633. 622.\n",
      "  629. 602. 644. 666. 648. 660. 611. 608.]\n",
      " [647. 631. 649. 667. 628. 642. 672. 613. 625. 588. 634. 587. 668. 651.\n",
      "  638. 645. 598. 622. 619. 648. 657. 692. 650. 642. 638. 621. 608. 646.\n",
      "  681. 631. 596. 612. 603. 643. 595. 647. 625. 661. 662. 626. 636. 624.\n",
      "  635. 685. 641. 629. 631. 662. 584. 617. 587. 658. 617. 639. 603. 647.\n",
      "  610. 655. 624. 630. 643. 595. 673. 603.]\n",
      " [636. 569. 643. 643. 607. 640. 633. 602. 629. 605. 634. 601. 666. 669.\n",
      "  604. 596. 620. 620. 644. 638. 563. 619. 618. 581. 602. 625. 627. 608.\n",
      "  616. 661. 630. 634. 606. 638. 655. 635. 604. 604. 633. 597. 592. 604.\n",
      "  582. 634. 646. 615. 621. 621. 639. 627. 592. 594. 644. 593. 582. 586.\n",
      "  604. 610. 627. 595. 644. 617. 629. 653.]]\n"
     ]
    }
   ],
   "source": [
    "\n",
    "cipher_t = open('ciphertext02.txt').read().split(\"\\n\")\n",
    "\n",
    "hexcipher = hexCipher(cipher_t,map_values)\n",
    "\n",
    "##Inverse the final permutation\n",
    "invres = ITFP(hexcipher,RFP)\n",
    "\n",
    "##Xoring the ciphertext pairs according to differential\n",
    "resxor = Xor_cipher(invres)\n",
    "\n",
    "##Expanding Right side block of Round 5\n",
    "expanded = Expanded(invres,E)\n",
    "\n",
    "##Xoring expanded to compute s box input\n",
    "sin = Xor_e_sbox(expanded)\n",
    "\n",
    "##Xoring L5 and R6\n",
    "L5 = [0,0,0,0,0,0,0,0,0,0,0,0,0,0,0,0,0,0,0,0,0,1,0,0,0,0,0,0,0,0,0,0]\n",
    "inxor = xor_l5_l6(resxor,L5)\n",
    "\n",
    "##Xoring sbox outputs\n",
    "sxor = Xor_sbox(inxor,INVP)\n",
    "\n",
    "##Finding the Keys  corresponding to Round 6 for above charcateristic\n",
    "keys = keys_6(sin,sxor,expanded,sbox)\n",
    "\n",
    "print(keys)"
   ]
  },
  {
   "cell_type": "code",
   "execution_count": 7,
   "metadata": {
    "ExecuteTime": {
     "end_time": "2022-03-10T16:18:28.287092Z",
     "start_time": "2022-03-10T16:18:28.273127Z"
    },
    "colab": {
     "base_uri": "https://localhost:8080/"
    },
    "id": "nWfnWJ9edaNE",
    "outputId": "3ab3a2e4-a0ae-4dd6-e60d-811e8efba959"
   },
   "outputs": [
    {
     "name": "stdout",
     "output_type": "stream",
     "text": [
      "S1  [681.0,622] key = 28\n",
      "S2  [686.0,636] key = 45\n",
      "S3  [690.0,618] key = 29\n",
      "S4  [670.0,623] key = 47\n",
      "S5  [700.0,624] key = 40\n",
      "S6  [686.0,623] key = 28\n",
      "S7  [674.0,619] key = 2\n",
      "S8  [684.0,636] key = 20\n"
     ]
    }
   ],
   "source": [
    "maxval,mean,keyval = max_mean_key_value(keys)\n",
    "\n",
    "\n",
    "#[max,mean] key =  value for each block\n",
    "for i in range(0,8):     \n",
    "  print(\"S\"+ str(i+1) +\"  [\"+ str(max_v[i]) + \",\" + str(mean_v[i]) + \"] key = \" + str(key_v[i]))"
   ]
  },
  {
   "cell_type": "code",
   "execution_count": 8,
   "metadata": {
    "ExecuteTime": {
     "end_time": "2022-03-10T16:18:28.319008Z",
     "start_time": "2022-03-10T16:18:28.293075Z"
    },
    "colab": {
     "base_uri": "https://localhost:8080/"
    },
    "id": "YfAB7ROL735d",
    "outputId": "982f630a-c4a0-40dd-9b90-11c7735b7559"
   },
   "outputs": [
    {
     "name": "stdout",
     "output_type": "stream",
     "text": [
      "X10XX1XX10011X010XX11X10111X1000100X10001001X11X0111X010\n"
     ]
    }
   ],
   "source": [
    "## to find the Key\n",
    "\n",
    "sbkey = \"011100101101XXXXXX101111101111011100000010010100\" ##Obtained by converting key value to binary for each sbox 1 to 8 except 3 for which 'XXXXXX' is appended as input to sbox 3 is never 0\n",
    "\n",
    "key = find_key(PC2,sbkey,shift_table)\n",
    "\n",
    "print(''.join(key))\n",
    "miskey = ''.join(key)"
   ]
  },
  {
   "cell_type": "markdown",
   "metadata": {
    "id": "Pr0ILhLd-nA_"
   },
   "source": [
    "Using Brute Force Method to find mising 14 bits of key"
   ]
  },
  {
   "cell_type": "code",
   "execution_count": 9,
   "metadata": {
    "ExecuteTime": {
     "end_time": "2022-03-10T16:18:28.728911Z",
     "start_time": "2022-03-10T16:18:28.323996Z"
    },
    "id": "WX0HMhoD-tm4"
   },
   "outputs": [],
   "source": [
    "\n",
    "poskey = []\n",
    "binlist = []\n",
    "for i in range(2**14):\n",
    "  x = str(bin(i)[2:])\n",
    "  binlist.append(('0')*(26-len(x))+x)\n",
    "\n",
    "for i in binlist:\n",
    "  j = 0\n",
    "  tempkey = list(miskey)\n",
    "  for k in range(len(tempkey)):\n",
    "    if tempkey[k] == 'X':\n",
    "      tempkey[k] = i[j]\n",
    "      j+=1\n",
    "  poskey.append(''.join(tempkey))\n"
   ]
  },
  {
   "cell_type": "code",
   "execution_count": 11,
   "metadata": {
    "ExecuteTime": {
     "end_time": "2022-03-10T16:18:30.284350Z",
     "start_time": "2022-03-10T16:18:28.730904Z"
    },
    "colab": {
     "base_uri": "https://localhost:8080/"
    },
    "id": "6rpKAIciHowg",
    "outputId": "bc22ac09-a26c-4972-f7d3-8e5bb9da407c"
   },
   "outputs": [
    {
     "name": "stdout",
     "output_type": "stream",
     "text": [
      "The key is 01101110010111100111101100101111000110110010100101010011\n",
      "\n"
     ]
    }
   ],
   "source": [
    "## Bruteforce to find the key\n",
    "\n",
    "mainkey = ''\n",
    "binplain = ''\n",
    "for i in 'fghijklmnopqrstu':\n",
    "  binplain+= f2u_mapping[i]\n",
    "\n",
    "bincipher = ''\n",
    "for i in \"gmnhfrfpihuttosj\":\n",
    "  bincipher+=f2u_mapping[i]\n",
    "\n",
    "for k in poskey:\n",
    "  key = roundkey(k,6,shift_table,key_comp)\n",
    "  if(encryption(binplain,key,6,initial_perm, E, sbox, sboxper, final_perm)== bincipher):\n",
    "    mainkey = k\n",
    "    print('The key is',k,'\\n')\n",
    "    for i in range(6):\n",
    "      print('Round',i,'key is',key[i])\n",
    "    \n",
    "    break"
   ]
  },
  {
   "cell_type": "code",
   "execution_count": 12,
   "metadata": {
    "ExecuteTime": {
     "end_time": "2022-03-10T16:18:30.300308Z",
     "start_time": "2022-03-10T16:18:30.286344Z"
    },
    "colab": {
     "base_uri": "https://localhost:8080/"
    },
    "id": "CzR_LLWrSshU",
    "outputId": "02f6aaf4-3c82-422c-f2a2-561075d038a7"
   },
   "outputs": [
    {
     "name": "stdout",
     "output_type": "stream",
     "text": [
      "0,1,1,0,1,1,1,0,0,1,0,1,1,1,1,0,0,1,1,1,1,0,1,1,0,0,1,0,1,1,1,1,0,0,0,1,1,0,1,1,0,0,1,0,1,0,0,1,0,1,0,1,0,0,1,1,"
     ]
    }
   ],
   "source": [
    "## seperate key into comma seperated\n",
    "\n",
    "for i in mainkey:\n",
    "    print(i+',',end='')"
   ]
  },
  {
   "cell_type": "code",
   "execution_count": 13,
   "metadata": {
    "ExecuteTime": {
     "end_time": "2022-03-10T16:18:30.331237Z",
     "start_time": "2022-03-10T16:18:30.304297Z"
    },
    "colab": {
     "base_uri": "https://localhost:8080/"
    },
    "id": "wRFh635gTDg1",
    "outputId": "2cabc281-e4cd-4d6c-eae9-f43efa529ba0"
   },
   "outputs": [
    {
     "name": "stdout",
     "output_type": "stream",
     "text": [
      "ij 52\n",
      "nj 132\n",
      "pq 171\n",
      "jl 70\n",
      "nq 139\n",
      "up 250\n",
      "ll 102\n",
      "ih 50\n",
      "sq 219\n",
      "pi 163\n",
      "rk 197\n",
      "hl 38\n",
      "no 137\n",
      "ij 52\n",
      "jm 71\n",
      "qu 191\n"
     ]
    }
   ],
   "source": [
    "## Convert main cipher text to decimal values\n",
    "\n",
    "password = 'ijnjpqjlnqupllihsqpirkhlnoijjmqu'\n",
    "\n",
    "for i in range(0,len(password),2):\n",
    "    a = f2u_mapping[password[i]]+f2u_mapping[password[i+1]]\n",
    "    b = int(a,2)\n",
    "    print(password[i:i+2],b)"
   ]
  },
  {
   "cell_type": "code",
   "execution_count": null,
   "metadata": {},
   "outputs": [],
   "source": []
  }
 ],
 "metadata": {
  "colab": {
   "collapsed_sections": [],
   "name": "Untitled1.ipynb",
   "provenance": []
  },
  "kernelspec": {
   "display_name": "Python 3 (ipykernel)",
   "language": "python",
   "name": "python3"
  },
  "language_info": {
   "codemirror_mode": {
    "name": "ipython",
    "version": 3
   },
   "file_extension": ".py",
   "mimetype": "text/x-python",
   "name": "python",
   "nbconvert_exporter": "python",
   "pygments_lexer": "ipython3",
   "version": "3.9.12"
  },
  "varInspector": {
   "cols": {
    "lenName": 16,
    "lenType": 16,
    "lenVar": 40
   },
   "kernels_config": {
    "python": {
     "delete_cmd_postfix": "",
     "delete_cmd_prefix": "del ",
     "library": "var_list.py",
     "varRefreshCmd": "print(var_dic_list())"
    },
    "r": {
     "delete_cmd_postfix": ") ",
     "delete_cmd_prefix": "rm(",
     "library": "var_list.r",
     "varRefreshCmd": "cat(var_dic_list()) "
    }
   },
   "types_to_exclude": [
    "module",
    "function",
    "builtin_function_or_method",
    "instance",
    "_Feature"
   ],
   "window_display": false
  }
 },
 "nbformat": 4,
 "nbformat_minor": 1
}
