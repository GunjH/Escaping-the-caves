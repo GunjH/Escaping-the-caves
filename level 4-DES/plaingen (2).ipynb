{
 "cells": [
  {
   "cell_type": "code",
   "execution_count": 9,
   "id": "fd19f6b4",
   "metadata": {
    "ExecuteTime": {
     "end_time": "2022-03-08T18:57:52.942677Z",
     "start_time": "2022-03-08T18:57:52.562079Z"
    }
   },
   "outputs": [],
   "source": [
    "import numpy as np\n",
    "import random\n",
    "\n",
    "hex_to_char = {'0000': 'f','0001': 'g','0010': 'h','0011': 'i','0100': 'j','0101': 'k','0110': 'l','0111': 'm','1000': 'n','1001': 'o','1010': 'p','1011': 'q','1100': 'r','1101': 's','1110': 't','1111': 'u'}\n",
    "characters=['f','g','h','i','j','k','l','m','n','o','p','q','r','s','t','u']\n",
    "\n",
    "char_to_hex = {x:y for y,x in hex_to_char.items()}\n",
    "\n",
    "def create_binplaintexts(binary,filename):\n",
    "\n",
    "\n",
    "    \n",
    "    XOR_v = list((bin(binary))[2:].zfill(64))\n",
    "    XOR_v = [int(x) for x in XOR_v]\n",
    "\n",
    "\n",
    "    b_plain_texts = []\n",
    "    for i in range(2500):\n",
    "        tmp = np.random.choice(characters,size=(1,16),replace = True)[0]\n",
    "        bininput=[]\n",
    "        for i in tmp:\n",
    "            bininput.extend([int(a) for a in char_to_hex[i]])\n",
    "\n",
    "        b_plain_texts.append(bininput)\n",
    "        b_plain_texts.append(list(np.bitwise_xor(bininput,XOR_v)))\n",
    "\n",
    "    plaintexts = []\n",
    "\n",
    "    for i in range(len(b_plain_texts)):\n",
    "        s = \"\"\n",
    "        for j in range(0,64,4):\n",
    "\n",
    "            s+=hex_to_char[''.join([str(a) for a in b_plain_texts[i][j:j+4]])]\n",
    "\n",
    "        plaintexts+=[s]\n",
    "\n",
    "    file = open(filename,\"w\")\n",
    "    for plaintext in plaintexts:\n",
    "        file.write(plaintext+\"\\n\")\n",
    "    file.close()"
   ]
  },
  {
   "cell_type": "code",
   "execution_count": 10,
   "id": "1683fe7c",
   "metadata": {
    "ExecuteTime": {
     "end_time": "2022-03-08T18:57:53.222069Z",
     "start_time": "2022-03-08T18:57:52.945808Z"
    }
   },
   "outputs": [],
   "source": [
    "# XOR value between pairs of plaintexts is 00 20 00 08 00 00 04 00\n",
    "create_binplaintexts(0x0020000800000400,\"plaintext1.txt\")\n",
    "# XOR value between pairs of plaintexts is  40 08 00 00 04 00 00 00\n",
    "create_binplaintexts(0x4008000004000000,\"plaintext2.txt\")\n",
    "\n",
    "\n",
    "\n",
    "\n"
   ]
  }
 ],
 "metadata": {
  "kernelspec": {
   "display_name": "Python 3 (ipykernel)",
   "language": "python",
   "name": "python3"
  },
  "language_info": {
   "codemirror_mode": {
    "name": "ipython",
    "version": 3
   },
   "file_extension": ".py",
   "mimetype": "text/x-python",
   "name": "python",
   "nbconvert_exporter": "python",
   "pygments_lexer": "ipython3",
   "version": "3.8.10"
  },
  "varInspector": {
   "cols": {
    "lenName": 16,
    "lenType": 16,
    "lenVar": 40
   },
   "kernels_config": {
    "python": {
     "delete_cmd_postfix": "",
     "delete_cmd_prefix": "del ",
     "library": "var_list.py",
     "varRefreshCmd": "print(var_dic_list())"
    },
    "r": {
     "delete_cmd_postfix": ") ",
     "delete_cmd_prefix": "rm(",
     "library": "var_list.r",
     "varRefreshCmd": "cat(var_dic_list()) "
    }
   },
   "types_to_exclude": [
    "module",
    "function",
    "builtin_function_or_method",
    "instance",
    "_Feature"
   ],
   "window_display": false
  }
 },
 "nbformat": 4,
 "nbformat_minor": 5
}
