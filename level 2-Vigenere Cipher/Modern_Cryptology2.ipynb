{
 "cells": [
  {
   "cell_type": "markdown",
   "id": "8dd2eb3b",
   "metadata": {},
   "source": [
    "### Shift Cipher: Trying to check whether shift cipher is meaningful or not"
   ]
  },
  {
   "cell_type": "code",
   "execution_count": 10,
   "id": "d2622382",
   "metadata": {},
   "outputs": [],
   "source": [
    "def bruteforce_shift_cipher(ciphertext):\n",
    "    for i in range(1, 26):\n",
    "        plaintext = \"\"\n",
    "        for char in ciphertext:\n",
    "            if char.isalpha():\n",
    "                char_code = ord(char)\n",
    "                if char.isupper():\n",
    "                    char_code -= i\n",
    "                    if char_code < ord('A'):\n",
    "                        char_code += 26\n",
    "                elif char.islower():\n",
    "                    char_code -= i\n",
    "                    if char_code < ord('a'):\n",
    "                        char_code += 26\n",
    "                plaintext += chr(char_code)\n",
    "            else:\n",
    "                plaintext += char\n",
    "        print(f\"Key: {i}, Plaintext: {plaintext}\")"
   ]
  },
  {
   "cell_type": "code",
   "execution_count": 11,
   "id": "94ae2207",
   "metadata": {},
   "outputs": [
    {
     "name": "stdout",
     "output_type": "stream",
     "text": [
      "Key: 1, Plaintext: Jf ebvc pg uhm omyx gibnbms, biivf jt vmsg mmxumf jwz biivf. Tqeil wvx xif qaatepvh uif_ciwm_ner_cf_qlmbafh xp hp tpswvkl. Nbz ywv pbzi uif sbsmokxi gpr bim oibu diaucms. Xs gjod bim fbmu, zpu njztx ajmm nmfl us yuufr ubojg apses bimsi.\n",
      "Key: 2, Plaintext: Ie daub of tgl nlxw fhamalr, ahhue is ulrf llwtle ivy ahhue. Spdhk vuw whe pzzsdoug the_bhvl_mdq_be_pklazeg wo go sorvujk. May xvu oayh the rarlnjwh foq ahl nhat chztblr. Wr finc ahl ealt, yot miysw zill mlek tr xtteq tanif zordr ahlrh.\n",
      "Key: 3, Plaintext: Hd czta ne sfk mkwv egzlzkq, zggtd hr tkqe kkvskd hux zggtd. Rocgj utv vgd oyyrcntf sgd_aguk_lcp_ad_ojkzydf vn fn rnqutij. Lzx wut nzxg sgd qzqkmivg enp zgk mgzs bgysakq. Vq ehmb zgk dzks, xns lhxrv yhkk lkdj sq wssdp szmhe ynqcq zgkqg.\n",
      "Key: 4, Plaintext: Gc bysz md rej ljvu dfykyjp, yffsc gq sjpd jjurjc gtw yffsc. Qnbfi tsu ufc nxxqbmse rfc_zftj_kbo_zc_nijyxce um em qmptshi. Kyw vts mywf rfc pypjlhuf dmo yfj lfyr afxrzjp. Up dgla yfj cyjr, wmr kgwqu xgjj kjci rp vrrco rylgd xmpbp yfjpf.\n",
      "Key: 5, Plaintext: Fb axry lc qdi kiut cexjxio, xeerb fp rioc iitqib fsv xeerb. Pmaeh srt teb mwwpalrd qeb_yesi_jan_yb_mhixwbd tl dl plosrgh. Jxv usr lxve qeb oxoikgte cln xei kexq zewqyio. To cfkz xei bxiq, vlq jfvpt wfii jibh qo uqqbn qxkfc wloao xeioe.\n",
      "Key: 6, Plaintext: Ea zwqx kb pch jhts bdwiwhn, wddqa eo qhnb hhspha eru wddqa. Olzdg rqs sda lvvozkqc pda_xdrh_izm_xa_lghwvac sk ck oknrqfg. Iwu trq kwud pda nwnhjfsd bkm wdh jdwp ydvpxhn. Sn bejy wdh awhp, ukp ieuos vehh ihag pn tppam pwjeb vknzn wdhnd.\n",
      "Key: 7, Plaintext: Dz yvpw ja obg igsr acvhvgm, vccpz dn pgma ggrogz dqt vccpz. Nkycf qpr rcz kuunyjpb ocz_wcqg_hyl_wz_kfgvuzb rj bj njmqpef. Hvt sqp jvtc ocz mvmgierc ajl vcg icvo xcuowgm. Rm adix vcg zvgo, tjo hdtnr udgg hgzf om soozl ovida ujmym vcgmc.\n",
      "Key: 8, Plaintext: Cy xuov iz naf hfrq zbugufl, ubboy cm oflz ffqnfy cps ubboy. Mjxbe poq qby jttmxioa nby_vbpf_gxk_vy_jefutya qi ai milpode. Gus rpo iusb nby lulfhdqb zik ubf hbun wbtnvfl. Ql zchw ubf yufn, sin gcsmq tcff gfye nl rnnyk nuhcz tilxl ubflb.\n",
      "Key: 9, Plaintext: Bx wtnu hy mze geqp yatftek, taanx bl neky eepmex bor taanx. Liwad onp pax isslwhnz max_uaoe_fwj_ux_idetsxz ph zh lhkoncd. Ftr qon htra max ktkegcpa yhj tae gatm vasmuek. Pk ybgv tae xtem, rhm fbrlp sbee fexd mk qmmxj mtgby shkwk taeka.\n",
      "Key: 10, Plaintext: Aw vsmt gx lyd fdpo xzsesdj, szzmw ak mdjx ddoldw anq szzmw. Khvzc nmo ozw hrrkvgmy lzw_tznd_evi_tw_hcdsrwy og yg kgjnmbc. Esq pnm gsqz lzw jsjdfboz xgi szd fzsl uzrltdj. Oj xafu szd wsdl, qgl eaqko radd edwc lj pllwi lsfax rgjvj szdjz.\n",
      "Key: 11, Plaintext: Zv urls fw kxc econ wyrdrci, ryylv zj lciw ccnkcv zmp ryylv. Jguyb mln nyv gqqjuflx kyv_symc_duh_sv_gbcrqvx nf xf jfimlab. Drp oml frpy kyv iriceany wfh ryc eyrk tyqksci. Ni wzet ryc vrck, pfk dzpjn qzcc dcvb ki okkvh krezw qfiui ryciy.\n",
      "Key: 12, Plaintext: Yu tqkr ev jwb dbnm vxqcqbh, qxxku yi kbhv bbmjbu ylo qxxku. Iftxa lkm mxu fppitekw jxu_rxlb_ctg_ru_fabqpuw me we iehlkza. Cqo nlk eqox jxu hqhbdzmx veg qxb dxqj sxpjrbh. Mh vyds qxb uqbj, oej cyoim pybb cbua jh njjug jqdyv pehth qxbhx.\n",
      "Key: 13, Plaintext: Xt spjq du iva caml uwpbpag, pwwjt xh jagu aaliat xkn pwwjt. Heswz kjl lwt eoohsdjv iwt_qwka_bsf_qt_ezapotv ld vd hdgkjyz. Bpn mkj dpnw iwt gpgacylw udf pwa cwpi rwoiqag. Lg uxcr pwa tpai, ndi bxnhl oxaa batz ig miitf ipcxu odgsg pwagw.\n",
      "Key: 14, Plaintext: Ws roip ct huz bzlk tvoaozf, ovvis wg izft zzkhzs wjm ovvis. Gdrvy jik kvs dnngrciu hvs_pvjz_are_ps_dyzonsu kc uc gcfjixy. Aom lji comv hvs fofzbxkv tce ovz bvoh qvnhpzf. Kf twbq ovz sozh, mch awmgk nwzz azsy hf lhhse hobwt ncfrf ovzfv.\n",
      "Key: 15, Plaintext: Vr qnho bs gty aykj sunznye, nuuhr vf hyes yyjgyr vil nuuhr. Fcqux ihj jur cmmfqbht gur_ouiy_zqd_or_cxynmrt jb tb fbeihwx. Znl kih bnlu gur eneyawju sbd nuy aung pumgoye. Je svap nuy rnyg, lbg zvlfj mvyy zyrx ge kggrd gnavs mbeqe nuyeu.\n",
      "Key: 16, Plaintext: Uq pmgn ar fsx zxji rtmymxd, mttgq ue gxdr xxifxq uhk mttgq. Ebptw hgi itq bllepags ftq_nthx_ypc_nq_bwxmlqs ia sa eadhgvw. Ymk jhg amkt ftq dmdxzvit rac mtx ztmf otlfnxd. Id ruzo mtx qmxf, kaf yukei luxx yxqw fd jffqc fmzur ladpd mtxdt.\n",
      "Key: 17, Plaintext: Tp olfm zq erw ywih qslxlwc, lssfp td fwcq wwhewp tgj lssfp. Daosv gfh hsp akkdozfr esp_msgw_xob_mp_avwlkpr hz rz dzcgfuv. Xlj igf zljs esp clcwyuhs qzb lsw ysle nskemwc. Hc qtyn lsw plwe, jze xtjdh ktww xwpv ec ieepb elytq kzcoc lswcs.\n",
      "Key: 18, Plaintext: So nkel yp dqv xvhg prkwkvb, krreo sc evbp vvgdvo sfi krreo. Cznru feg gro zjjcnyeq dro_lrfv_wna_lo_zuvkjoq gy qy cybfetu. Wki hfe ykir dro bkbvxtgr pya krv xrkd mrjdlvb. Gb psxm krv okvd, iyd wsicg jsvv wvou db hddoa dkxsp jybnb krvbr.\n",
      "Key: 19, Plaintext: Rn mjdk xo cpu wugf oqjvjua, jqqdn rb duao uufcun reh jqqdn. Bymqt edf fqn yiibmxdp cqn_kqeu_vmz_kn_ytujinp fx px bxaedst. Vjh ged xjhq cqn ajauwsfq oxz jqu wqjc lqickua. Fa orwl jqu njuc, hxc vrhbf iruu vunt ca gccnz cjwro ixama jquaq.\n",
      "Key: 20, Plaintext: Qm licj wn bot vtfe npiuitz, ippcm qa ctzn ttebtm qdg ippcm. Axlps dce epm xhhalwco bpm_jpdt_uly_jm_xstihmo ew ow awzdcrs. Uig fdc wigp bpm ziztvrep nwy ipt vpib kphbjtz. Ez nqvk ipt mitb, gwb uqgae hqtt utms bz fbbmy bivqn hwzlz iptzp.\n",
      "Key: 21, Plaintext: Pl khbi vm ans used mohthsy, hoobl pz bsym ssdasl pcf hoobl. Zwkor cbd dol wggzkvbn aol_iocs_tkx_il_wrshgln dv nv zvycbqr. Thf ecb vhfo aol yhysuqdo mvx hos uoha jogaisy. Dy mpuj hos lhsa, fva tpfzd gpss tslr ay eaalx ahupm gvyky hosyo.\n",
      "Key: 22, Plaintext: Ok jgah ul zmr trdc lngsgrx, gnnak oy arxl rrczrk obe gnnak. Yvjnq bac cnk vffyjuam znk_hnbr_sjw_hk_vqrgfkm cu mu yuxbapq. Sge dba ugen znk xgxrtpcn luw gnr tngz infzhrx. Cx loti gnr kgrz, euz soeyc forr srkq zx dzzkw zgtol fuxjx gnrxn.\n",
      "Key: 23, Plaintext: Nj ifzg tk ylq sqcb kmfrfqw, fmmzj nx zqwk qqbyqj nad fmmzj. Xuimp azb bmj ueexitzl ymj_gmaq_riv_gj_upqfejl bt lt xtwazop. Rfd caz tfdm ymj wfwqsobm ktv fmq smfy hmeygqw. Bw knsh fmq jfqy, dty rndxb enqq rqjp yw cyyjv yfsnk etwiw fmqwm.\n",
      "Key: 24, Plaintext: Mi heyf sj xkp rpba jleqepv, ellyi mw ypvj ppaxpi mzc ellyi. Wthlo zya ali tddwhsyk xli_flzp_qhu_fi_topedik as ks wsvzyno. Qec bzy secl xli vevprnal jsu elp rlex gldxfpv. Av jmrg elp iepx, csx qmcwa dmpp qpio xv bxxiu xermj dsvhv elpvl.\n",
      "Key: 25, Plaintext: Lh gdxe ri wjo qoaz ikdpdou, dkkxh lv xoui oozwoh lyb dkkxh. Vsgkn yxz zkh sccvgrxj wkh_ekyo_pgt_eh_snodchj zr jr vruyxmn. Pdb ayx rdbk wkh uduoqmzk irt dko qkdw fkcweou. Zu ilqf dko hdow, brw plbvz cloo pohn wu awwht wdqli crugu dkouk.\n"
     ]
    }
   ],
   "source": [
    "ciphertext =\"Kg fcwd qh vin pnzy hjcocnt, cjjwg ku wnth nnyvng kxa cjjwg. Urfjm xwy yjg rbbufqwi vjg_djxn_ofs_dg_rmncbgi yq iq uqtxwlm. Oca zxw qcaj vjg tctnplyj hqs cjn pjcv ejbvdnt. Yt hkpe cjn gcnv, aqv okauy bknn ongm vt zvvgs vcpkh bqtft cjntj.\"\n",
    "bruteforce_shift_cipher(ciphertext)"
   ]
  },
  {
   "cell_type": "markdown",
   "id": "4e025c9d",
   "metadata": {},
   "source": [
    "### Frequency Analysis : Unigrams"
   ]
  },
  {
   "cell_type": "code",
   "execution_count": 12,
   "id": "8eddb839",
   "metadata": {},
   "outputs": [],
   "source": [
    "def frequency_analysis(ciphertext):\n",
    "    \n",
    "    freq_dict = {}\n",
    "    for char in ciphertext:\n",
    "        if char.isalpha():\n",
    "            if char in freq_dict:\n",
    "                freq_dict[char] += 1\n",
    "            else:\n",
    "                freq_dict[char] = 1\n",
    "   \n",
    "    freq_dict = dict(sorted(freq_dict.items(), key=lambda item: item[1], reverse=True))\n",
    "    \n",
    "    print(\"Frequency:\", freq_dict)"
   ]
  },
  {
   "cell_type": "code",
   "execution_count": 13,
   "id": "4cbd254f",
   "metadata": {},
   "outputs": [
    {
     "name": "stdout",
     "output_type": "stream",
     "text": [
      "Frequency: {'n': 18, 'j': 18, 'c': 15, 'g': 12, 'v': 12, 't': 11, 'q': 9, 'w': 8, 'y': 7, 'h': 6, 'k': 6, 'b': 6, 'f': 5, 'p': 5, 'x': 5, 'a': 5, 'd': 4, 'i': 4, 'o': 4, 'u': 4, 'm': 4, 'z': 3, 'r': 3, 's': 3, 'l': 2, 'e': 2, 'K': 1, 'U': 1, 'O': 1, 'Y': 1}\n"
     ]
    }
   ],
   "source": [
    "ciphertext = \"Kg fcwd qh vin pnzy hjcocnt, cjjwg ku wnth nnyvng kxa cjjwg. Urfjm xwy yjg rbbufqwi vjg_djxn_ofs_dg_rmncbgi yq iq uqtxwlm. Oca zxw qcaj vjg tctnplyj hqs cjn pjcv ejbvdnt. Yt hkpe cjn gcnv, aqv okauy bknn ongm vt zvvgs vcpkh bqtft cjntj.\"\n",
    "frequency_analysis(ciphertext)"
   ]
  },
  {
   "cell_type": "markdown",
   "id": "99968e4b",
   "metadata": {},
   "source": [
    "### Letter Pair Analysis"
   ]
  },
  {
   "cell_type": "code",
   "execution_count": 14,
   "id": "ef7138a3",
   "metadata": {},
   "outputs": [],
   "source": [
    "def letter_pair_analysis(ciphertext):\n",
    "    \n",
    "    freq_dict = {}\n",
    "    for i in range(len(ciphertext)-1):\n",
    "        if ciphertext[i].isalpha() and ciphertext[i+1].isalpha():\n",
    "            letter_pair = ciphertext[i] + ciphertext[i+1]\n",
    "            if letter_pair in freq_dict:\n",
    "                freq_dict[letter_pair] += 1\n",
    "            else:\n",
    "                freq_dict[letter_pair] = 1\n",
    "   \n",
    "    freq_dict = dict(sorted(freq_dict.items(), key=lambda item: item[1], reverse=True))\n",
    "    \n",
    "    print(\"Frequency:\", freq_dict)\n"
   ]
  },
  {
   "cell_type": "code",
   "execution_count": 15,
   "id": "c1b14ed2",
   "metadata": {},
   "outputs": [
    {
     "name": "stdout",
     "output_type": "stream",
     "text": [
      "Frequency: {'cj': 5, 'nt': 4, 'xw': 3, 'jg': 3, 'jn': 3, 'jc': 2, 'cn': 2, 'jj': 2, 'jw': 2, 'wg': 2, 'nn': 2, 'ng': 2, 'yj': 2, 'vj': 2, 'qt': 2, 'ca': 2, 'Kg': 1, 'fc': 1, 'cw': 1, 'wd': 1, 'qh': 1, 'vi': 1, 'in': 1, 'pn': 1, 'nz': 1, 'zy': 1, 'hj': 1, 'co': 1, 'oc': 1, 'ku': 1, 'wn': 1, 'th': 1, 'ny': 1, 'yv': 1, 'vn': 1, 'kx': 1, 'xa': 1, 'Ur': 1, 'rf': 1, 'fj': 1, 'jm': 1, 'wy': 1, 'rb': 1, 'bb': 1, 'bu': 1, 'uf': 1, 'fq': 1, 'qw': 1, 'wi': 1, 'dj': 1, 'jx': 1, 'xn': 1, 'of': 1, 'fs': 1, 'dg': 1, 'rm': 1, 'mn': 1, 'nc': 1, 'cb': 1, 'bg': 1, 'gi': 1, 'yq': 1, 'iq': 1, 'uq': 1, 'tx': 1, 'wl': 1, 'lm': 1, 'Oc': 1, 'zx': 1, 'qc': 1, 'aj': 1, 'tc': 1, 'ct': 1, 'tn': 1, 'np': 1, 'pl': 1, 'ly': 1, 'hq': 1, 'qs': 1, 'pj': 1, 'cv': 1, 'ej': 1, 'jb': 1, 'bv': 1, 'vd': 1, 'dn': 1, 'Yt': 1, 'hk': 1, 'kp': 1, 'pe': 1, 'gc': 1, 'nv': 1, 'aq': 1, 'qv': 1, 'ok': 1, 'ka': 1, 'au': 1, 'uy': 1, 'bk': 1, 'kn': 1, 'on': 1, 'gm': 1, 'vt': 1, 'zv': 1, 'vv': 1, 'vg': 1, 'gs': 1, 'vc': 1, 'cp': 1, 'pk': 1, 'kh': 1, 'bq': 1, 'tf': 1, 'ft': 1, 'tj': 1}\n"
     ]
    }
   ],
   "source": [
    "ciphertext = \"Kg fcwd qh vin pnzy hjcocnt, cjjwg ku wnth nnyvng kxa cjjwg. Urfjm xwy yjg rbbufqwi vjg_djxn_ofs_dg_rmncbgi yq iq uqtxwlm. Oca zxw qcaj vjg tctnplyj hqs cjn pjcv ejbvdnt. Yt hkpe cjn gcnv, aqv okauy bknn ongm vt zvvgs vcpkh bqtft cjntj..\"\n",
    "letter_pair_analysis(ciphertext)"
   ]
  },
  {
   "cell_type": "code",
   "execution_count": null,
   "id": "94722ae0",
   "metadata": {},
   "outputs": [],
   "source": []
  }
 ],
 "metadata": {
  "kernelspec": {
   "display_name": "Python 3 (ipykernel)",
   "language": "python",
   "name": "python3"
  },
  "language_info": {
   "codemirror_mode": {
    "name": "ipython",
    "version": 3
   },
   "file_extension": ".py",
   "mimetype": "text/x-python",
   "name": "python",
   "nbconvert_exporter": "python",
   "pygments_lexer": "ipython3",
   "version": "3.10.6"
  }
 },
 "nbformat": 4,
 "nbformat_minor": 5
}
