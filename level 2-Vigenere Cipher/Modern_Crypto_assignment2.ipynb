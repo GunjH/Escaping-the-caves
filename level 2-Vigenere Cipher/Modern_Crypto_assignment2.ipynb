{
 "cells": [
  {
   "cell_type": "code",
   "execution_count": 1,
   "id": "a83e91bb",
   "metadata": {},
   "outputs": [
    {
     "name": "stdout",
     "output_type": "stream",
     "text": [
      "Letter key: JCJCFFCCCB\n"
     ]
    }
   ],
   "source": [
    "def numeric_to_letter_key(key):\n",
    "    letter_key = \"\"\n",
    "    for number in key:\n",
    "        letter_key += chr(ord('A') + int(number) % 26)\n",
    "    return letter_key\n",
    "\n",
    "numeric_key = [9,2,9,2,5,5,2,2,2,1]\n",
    "letter_key = numeric_to_letter_key(numeric_key)\n",
    "print(\"Letter key:\", letter_key)"
   ]
  },
  {
   "cell_type": "code",
   "execution_count": 2,
   "id": "76026019",
   "metadata": {},
   "outputs": [
    {
     "name": "stdout",
     "output_type": "stream",
     "text": [
      "Be wary of the next chamber, there is very little joy there. Speak out the password the_cave_man_be_pleased to go through. May you have the strength for the next chamber. To find the exit,you first will need to utter magic words there.\n"
     ]
    }
   ],
   "source": [
    "def decrypt(cipher_text, key):\n",
    "    key_len = len(key)\n",
    "    key_index = 0\n",
    "    output_text = \"\"\n",
    "    for char in cipher_text:\n",
    "        \n",
    "        if char.isalpha():\n",
    "            shift = ord(key[key_index].upper()) - ord('A')\n",
    "            if char.islower():\n",
    "                output_text += chr((ord(char) - ord('a') - shift + 26) % 26 + ord('a'))\n",
    "            else:\n",
    "                output_text += chr((ord(char) - ord('A') - shift + 26) % 26 + ord('A'))\n",
    "            key_index = (key_index + 1) % key_len\n",
    "        else:\n",
    "            output_text += char\n",
    "        \n",
    "        \n",
    "    return output_text\n",
    "\n",
    "plaintext = \"Kg fcwd qh vin pnzy hjcocnt, cjjwg ku wnth nnyvng kxa cjjwg. Urfjm xwy yjg rbbufqwi vjg_djxn_ofs_dg_rmncbgi yq iq uqtxwlm. Oca zxw qcaj vjg tctnplyj hqs cjn pjcv ejbvdnt. Yt hkpe cjn gcnv,aqv okauy bknn ongm vt zvvgs vcpkh bqtft cjntj.\"\n",
    "key = \"JCJCFFCCCB\"\n",
    "\n",
    "output_text = decrypt(plaintext, key)\n",
    "print(output_text)"
   ]
  },
  {
   "cell_type": "code",
   "execution_count": null,
   "id": "54b02e7b",
   "metadata": {},
   "outputs": [],
   "source": []
  }
 ],
 "metadata": {
  "kernelspec": {
   "display_name": "Python 3 (ipykernel)",
   "language": "python",
   "name": "python3"
  },
  "language_info": {
   "codemirror_mode": {
    "name": "ipython",
    "version": 3
   },
   "file_extension": ".py",
   "mimetype": "text/x-python",
   "name": "python",
   "nbconvert_exporter": "python",
   "pygments_lexer": "ipython3",
   "version": "3.8.10"
  }
 },
 "nbformat": 4,
 "nbformat_minor": 5
}
