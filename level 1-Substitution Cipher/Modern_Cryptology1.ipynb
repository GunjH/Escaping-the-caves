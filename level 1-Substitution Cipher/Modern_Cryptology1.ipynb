{
 "cells": [
  {
   "cell_type": "markdown",
   "id": "8dd2eb3b",
   "metadata": {},
   "source": [
    "### Shift Cipher: Trying to check whether shift cipher is meaningful or not"
   ]
  },
  {
   "cell_type": "code",
   "execution_count": 10,
   "id": "d2622382",
   "metadata": {},
   "outputs": [],
   "source": [
    "def bruteforce_shift_cipher(ciphertext):\n",
    "    for i in range(1, 26):\n",
    "        plaintext = \"\"\n",
    "        for char in ciphertext:\n",
    "            if char.isalpha():\n",
    "                char_code = ord(char)\n",
    "                if char.isupper():\n",
    "                    char_code -= i\n",
    "                    if char_code < ord('A'):\n",
    "                        char_code += 26\n",
    "                elif char.islower():\n",
    "                    char_code -= i\n",
    "                    if char_code < ord('a'):\n",
    "                        char_code += 26\n",
    "                plaintext += chr(char_code)\n",
    "            else:\n",
    "                plaintext += char\n",
    "        print(f\"Key: {i}, Plaintext: {plaintext}\")"
   ]
  },
  {
   "cell_type": "code",
   "execution_count": 11,
   "id": "94ae2207",
   "metadata": {},
   "outputs": [
    {
     "name": "stdout",
     "output_type": "stream",
     "text": [
      "Key: 1, Plaintext: Ldvz vz ldx svrzl hdoinxr fs ldx hoaxz. Oz wfm hog zxx, ldxrx vz gfldvgq fs vglxrxzl vg ldx hdoinxr. Zfix fs ldx jolxr hdoinxrz uvjj nx ifrx vglxrxzlvgq ldog ldvz fgx! Ldx hftx mzxt sfr ldvz ixzzoqx vz o zviejx zmnzlvlmlvfg hvedxr vg udvhd tvqvlz doax nxxg zdvslxt nw 8 ejohxz. Ldx eozzufrt vz lwRqM03tvcc uvldfml ldx cmflxz\n",
      "Key: 2, Plaintext: Kcuy uy kcw ruqyk gcnhmwq er kcw gnzwy. Ny vel gnf yww, kcwqw uy fekcufp er ufkwqwyk uf kcw gcnhmwq. Yehw er kcw inkwq gcnhmwqy tuii mw heqw ufkwqwykufp kcnf kcuy efw! Kcw gesw lyws req kcuy hwyynpw uy n yuhdiw ylmykuklkuef gudcwq uf tcugc supuky cnzw mwwf ycurkws mv 8 dingwy. Kcw dnyyteqs uy kvQpL03subb tukcelk kcw blekwy\n",
      "Key: 3, Plaintext: Jbtx tx jbv qtpxj fbmglvp dq jbv fmyvx. Mx udk fme xvv, jbvpv tx edjbteo dq tejvpvxj te jbv fbmglvp. Xdgv dq jbv hmjvp fbmglvpx sthh lv gdpv tejvpvxjteo jbme jbtx dev! Jbv fdrv kxvr qdp jbtx gvxxmov tx m xtgchv xklxjtjkjtde ftcbvp te sbtfb rtotjx bmyv lvve xbtqjvr lu 8 chmfvx. Jbv cmxxsdpr tx juPoK03rtaa stjbdkj jbv akdjvx\n",
      "Key: 4, Plaintext: Iasw sw iau psowi ealfkuo cp iau elxuw. Lw tcj eld wuu, iauou sw dciasdn cp sdiuouwi sd iau ealfkuo. Wcfu cp iau gliuo ealfkuow rsgg ku fcou sdiuouwisdn iald iasw cdu! Iau ecqu jwuq pco iasw fuwwlnu sw l wsfbgu wjkwisijiscd esbauo sd rasea qsnsiw alxu kuud waspiuq kt 8 bgleuw. Iau blwwrcoq sw itOnJ03qszz rsiacji iau zjciuw\n",
      "Key: 5, Plaintext: Hzrv rv hzt ornvh dzkejtn bo hzt dkwtv. Kv sbi dkc vtt, hztnt rv cbhzrcm bo rchtntvh rc hzt dzkejtn. Vbet bo hzt fkhtn dzkejtnv qrff jt ebnt rchtntvhrcm hzkc hzrv bct! Hzt dbpt ivtp obn hzrv etvvkmt rv k vreaft vijvhrhihrbc draztn rc qzrdz prmrhv zkwt jttc vzrohtp js 8 afkdtv. Hzt akvvqbnp rv hsNmI03pryy qrhzbih hzt yibhtv\n",
      "Key: 6, Plaintext: Gyqu qu gys nqmug cyjdism an gys cjvsu. Ju rah cjb uss, gysms qu bagyqbl an qbgsmsug qb gys cyjdism. Uads an gys ejgsm cyjdismu pqee is dams qbgsmsugqbl gyjb gyqu abs! Gys caos huso nam gyqu dsuujls qu j uqdzes uhiugqghgqab cqzysm qb pyqcy oqlqgu yjvs issb uyqngso ir 8 zejcsu. Gys zjuupamo qu grMlH03oqxx pqgyahg gys xhagsu\n",
      "Key: 7, Plaintext: Fxpt pt fxr mpltf bxichrl zm fxr biurt. It qzg bia trr, fxrlr pt azfxpak zm pafrlrtf pa fxr bxichrl. Tzcr zm fxr difrl bxichrlt opdd hr czlr pafrlrtfpak fxia fxpt zar! Fxr bznr gtrn mzl fxpt crttikr pt i tpcydr tghtfpfgfpza bpyxrl pa oxpbx npkpft xiur hrra txpmfrn hq 8 ydibrt. Fxr yittozln pt fqLkG03npww opfxzgf fxr wgzfrt\n",
      "Key: 8, Plaintext: Ewos os ewq lokse awhbgqk yl ewq ahtqs. Hs pyf ahz sqq, ewqkq os zyewozj yl ozeqkqse oz ewq awhbgqk. Sybq yl ewq cheqk awhbgqks nocc gq bykq ozeqkqseozj ewhz ewos yzq! Ewq aymq fsqm lyk ewos bqsshjq os h sobxcq sfgseoefeoyz aoxwqk oz nwoaw mojoes whtq gqqz swoleqm gp 8 xchaqs. Ewq xhssnykm os epKjF03movv noewyfe ewq vfyeqs\n",
      "Key: 9, Plaintext: Dvnr nr dvp knjrd zvgafpj xk dvp zgspr. Gr oxe zgy rpp, dvpjp nr yxdvnyi xk nydpjprd ny dvp zvgafpj. Rxap xk dvp bgdpj zvgafpjr mnbb fp axjp nydpjprdnyi dvgy dvnr xyp! Dvp zxlp erpl kxj dvnr aprrgip nr g rnawbp refrdndednxy znwvpj ny mvnzv lnindr vgsp fppy rvnkdpl fo 8 wbgzpr. Dvp wgrrmxjl nr doJiE03lnuu mndvxed dvp uexdpr\n",
      "Key: 10, Plaintext: Cumq mq cuo jmiqc yufzeoi wj cuo yfroq. Fq nwd yfx qoo, cuoio mq xwcumxh wj mxcoioqc mx cuo yufzeoi. Qwzo wj cuo afcoi yufzeoiq lmaa eo zwio mxcoioqcmxh cufx cumq wxo! Cuo ywko dqok jwi cumq zoqqfho mq f qmzvao qdeqcmcdcmwx ymvuoi mx lumyu kmhmcq ufro eoox qumjcok en 8 vafyoq. Cuo vfqqlwik mq cnIhD03kmtt lmcuwdc cuo tdwcoq\n",
      "Key: 11, Plaintext: Btlp lp btn ilhpb xteydnh vi btn xeqnp. Ep mvc xew pnn, btnhn lp wvbtlwg vi lwbnhnpb lw btn xteydnh. Pvyn vi btn zebnh xteydnhp klzz dn yvhn lwbnhnpblwg btew btlp vwn! Btn xvjn cpnj ivh btlp ynppegn lp e plyuzn pcdpblbcblvw xlutnh lw ktlxt jlglbp teqn dnnw ptlibnj dm 8 uzexnp. Btn ueppkvhj lp bmHgC03jlss klbtvcb btn scvbnp\n",
      "Key: 12, Plaintext: Asko ko asm hkgoa wsdxcmg uh asm wdpmo. Do lub wdv omm, asmgm ko vuaskvf uh kvamgmoa kv asm wsdxcmg. Ouxm uh asm ydamg wsdxcmgo jkyy cm xugm kvamgmoakvf asdv asko uvm! Asm wuim bomi hug asko xmoodfm ko d okxtym obcoakabakuv wktsmg kv jskws ikfkao sdpm cmmv oskhami cl 8 tydwmo. Asm tdoojugi ko alGfB03ikrr jkasuba asm rbuamo\n",
      "Key: 13, Plaintext: Zrjn jn zrl gjfnz vrcwblf tg zrl vcoln. Cn kta vcu nll, zrlfl jn utzrjue tg juzlflnz ju zrl vrcwblf. Ntwl tg zrl xczlf vrcwblfn ijxx bl wtfl juzlflnzjue zrcu zrjn tul! Zrl vthl anlh gtf zrjn wlnncel jn c njwsxl nabnzjzazjtu vjsrlf ju irjvr hjejzn rcol bllu nrjgzlh bk 8 sxcvln. Zrl scnnitfh jn zkFeA03hjqq ijzrtaz zrl qatzln\n",
      "Key: 14, Plaintext: Yqim im yqk fiemy uqbvake sf yqk ubnkm. Bm jsz ubt mkk, yqkek im tsyqitd sf itykekmy it yqk uqbvake. Msvk sf yqk wbyke uqbvakem hiww ak vsek itykekmyitd yqbt yqim stk! Yqk usgk zmkg fse yqim vkmmbdk im b mivrwk mzamyiyzyist uirqke it hqiuq gidiym qbnk akkt mqifykg aj 8 rwbukm. Yqk rbmmhseg im yjEdZ03gipp hiyqszy yqk pzsykm\n",
      "Key: 15, Plaintext: Xphl hl xpj ehdlx tpauzjd re xpj tamjl. Al iry tas ljj, xpjdj hl srxphsc re hsxjdjlx hs xpj tpauzjd. Lruj re xpj vaxjd tpauzjdl ghvv zj urdj hsxjdjlxhsc xpas xphl rsj! Xpj trfj yljf erd xphl ujllacj hl a lhuqvj lyzlxhxyxhrs thqpjd hs gphtp fhchxl pamj zjjs lphexjf zi 8 qvatjl. Xpj qallgrdf hl xiDcY03fhoo ghxpryx xpj oyrxjl\n",
      "Key: 16, Plaintext: Wogk gk woi dgckw soztyic qd woi szlik. Zk hqx szr kii, woici gk rqwogrb qd grwicikw gr woi soztyic. Kqti qd woi uzwic soztyick fguu yi tqci grwicikwgrb wozr wogk qri! Woi sqei xkie dqc wogk tikkzbi gk z kgtpui kxykwgwxwgqr sgpoic gr fogso egbgwk ozli yiir kogdwie yh 8 puzsik. Woi pzkkfqce gk whCbX03egnn fgwoqxw woi nxqwik\n",
      "Key: 17, Plaintext: Vnfj fj vnh cfbjv rnysxhb pc vnh rykhj. Yj gpw ryq jhh, vnhbh fj qpvnfqa pc fqvhbhjv fq vnh rnysxhb. Jpsh pc vnh tyvhb rnysxhbj eftt xh spbh fqvhbhjvfqa vnyq vnfj pqh! Vnh rpdh wjhd cpb vnfj shjjyah fj y jfsoth jwxjvfvwvfpq rfonhb fq enfrn dfafvj nykh xhhq jnfcvhd xg 8 otyrhj. Vnh oyjjepbd fj vgBaW03dfmm efvnpwv vnh mwpvhj\n",
      "Key: 18, Plaintext: Umei ei umg beaiu qmxrwga ob umg qxjgi. Xi fov qxp igg, umgag ei poumepz ob epugagiu ep umg qmxrwga. Iorg ob umg sxuga qmxrwgai dess wg roag epugagiuepz umxp umei opg! Umg qocg vigc boa umei rgiixzg ei x iernsg ivwiueuvueop qenmga ep dmeqm cezeui mxjg wggp imebugc wf 8 nsxqgi. Umg nxiidoac ei ufAzV03cell deumovu umg lvougi\n",
      "Key: 19, Plaintext: Tldh dh tlf adzht plwqvfz na tlf pwifh. Wh enu pwo hff, tlfzf dh ontldoy na dotfzfht do tlf plwqvfz. Hnqf na tlf rwtfz plwqvfzh cdrr vf qnzf dotfzfhtdoy tlwo tldh nof! Tlf pnbf uhfb anz tldh qfhhwyf dh w hdqmrf huvhtdtutdno pdmlfz do cldpl bdydth lwif vffo hldatfb ve 8 mrwpfh. Tlf mwhhcnzb dh teZyU03bdkk cdtlnut tlf kuntfh\n",
      "Key: 20, Plaintext: Skcg cg ske zcygs okvpuey mz ske ovheg. Vg dmt ovn gee, skeye cg nmskcnx mz cnseyegs cn ske okvpuey. Gmpe mz ske qvsey okvpueyg bcqq ue pmye cnseyegscnx skvn skcg mne! Ske omae tgea zmy skcg peggvxe cg v gcplqe gtugscstscmn oclkey cn bkcok acxcsg kvhe ueen gkczsea ud 8 lqvoeg. Ske lvggbmya cg sdYxT03acjj bcskmts ske jtmseg\n",
      "Key: 21, Plaintext: Rjbf bf rjd ybxfr njuotdx ly rjd nugdf. Uf cls num fdd, rjdxd bf mlrjbmw ly bmrdxdfr bm rjd njuotdx. Flod ly rjd purdx njuotdxf abpp td olxd bmrdxdfrbmw rjum rjbf lmd! Rjd nlzd sfdz ylx rjbf odffuwd bf u fbokpd fstfrbrsrblm nbkjdx bm ajbnj zbwbrf jugd tddm fjbyrdz tc 8 kpundf. Rjd kuffalxz bf rcXwS03zbii abrjlsr rjd islrdf\n",
      "Key: 22, Plaintext: Qiae ae qic xaweq mitnscw kx qic mtfce. Te bkr mtl ecc, qicwc ae lkqialv kx alqcwceq al qic mitnscw. Eknc kx qic otqcw mitnscwe zaoo sc nkwc alqcwceqalv qitl qiae klc! Qic mkyc recy xkw qiae nceetvc ae t eanjoc erseqaqrqakl majicw al ziami yavaqe itfc sccl eiaxqcy sb 8 jotmce. Qic jteezkwy ae qbWvR03yahh zaqikrq qic hrkqce\n",
      "Key: 23, Plaintext: Phzd zd phb wzvdp lhsmrbv jw phb lsebd. Sd ajq lsk dbb, phbvb zd kjphzku jw zkpbvbdp zk phb lhsmrbv. Djmb jw phb nspbv lhsmrbvd yznn rb mjvb zkpbvbdpzku phsk phzd jkb! Phb ljxb qdbx wjv phzd mbddsub zd s dzminb dqrdpzpqpzjk lzihbv zk yhzlh xzuzpd hseb rbbk dhzwpbx ra 8 inslbd. Phb isddyjvx zd paVuQ03xzgg yzphjqp phb gqjpbd\n",
      "Key: 24, Plaintext: Ogyc yc oga vyuco kgrlqau iv oga krdac. Rc zip krj caa, ogaua yc jiogyjt iv yjoauaco yj oga kgrlqau. Cila iv oga mroau kgrlqauc xymm qa liua yjoauacoyjt ogrj ogyc ija! Oga kiwa pcaw viu ogyc laccrta yc r cylhma cpqcoyopoyij kyhgau yj xgykg wytyoc grda qaaj cgyvoaw qz 8 hmrkac. Oga hrccxiuw yc ozUtP03wyff xyogipo oga fpioac\n",
      "Key: 25, Plaintext: Nfxb xb nfz uxtbn jfqkpzt hu nfz jqczb. Qb yho jqi bzz, nfztz xb ihnfxis hu xinztzbn xi nfz jfqkpzt. Bhkz hu nfz lqnzt jfqkpztb wxll pz khtz xinztzbnxis nfqi nfxb hiz! Nfz jhvz obzv uht nfxb kzbbqsz xb q bxkglz bopbnxnonxhi jxgfzt xi wfxjf vxsxnb fqcz pzzi bfxunzv py 8 glqjzb. Nfz gqbbwhtv xb nyTsO03vxee wxnfhon nfz eohnzb\n"
     ]
    }
   ],
   "source": [
    "ciphertext = \"Mewa wa mey twsam iepjoys gt mey ipbya. Pa xgn iph ayy, meysy wa hgmewhr gt whmysyam wh mey iepjoys. Agjy gt mey kpmys iepjoysa vwkk oy jgsy whmysyamwhr meph mewa ghy! Mey iguy nayu tgs mewa jyaapry wa p awjfky anoamwmnmwgh iwfeys wh vewie uwrwma epby oyyh aewtmyu ox 8 fkpiya. Mey fpaavgsu wa mxSrN03uwdd vwmegnm mey dngmya\"\n",
    "bruteforce_shift_cipher(ciphertext)"
   ]
  },
  {
   "cell_type": "markdown",
   "id": "4e025c9d",
   "metadata": {},
   "source": [
    "### Frequency Analysis : Unigrams"
   ]
  },
  {
   "cell_type": "code",
   "execution_count": 27,
   "id": "8eddb839",
   "metadata": {},
   "outputs": [],
   "source": [
    "def frequency_analysis(ciphertext):\n",
    "    \n",
    "    freq_dict = {}\n",
    "    for char in ciphertext:\n",
    "        if char.isalpha():\n",
    "            if char in freq_dict:\n",
    "                freq_dict[char] += 1\n",
    "            else:\n",
    "                freq_dict[char] = 1\n",
    "   \n",
    "    freq_dict = dict(sorted(freq_dict.items(), key=lambda item: item[1], reverse=True))\n",
    "    \n",
    "    print(\"Frequency:\", freq_dict)"
   ]
  },
  {
   "cell_type": "code",
   "execution_count": 28,
   "id": "4cbd254f",
   "metadata": {},
   "outputs": [
    {
     "name": "stdout",
     "output_type": "stream",
     "text": [
      "Frequency: {'y': 36, 'a': 26, 'w': 25, 'm': 25, 'e': 22, 'g': 14, 's': 12, 'p': 12, 'h': 12, 'i': 9, 'j': 7, 'o': 7, 't': 6, 'n': 6, 'u': 6, 'r': 5, 'k': 5, 'v': 4, 'f': 4, 'M': 3, 'x': 3, 'd': 3, 'b': 2, 'P': 1, 'A': 1, 'S': 1, 'N': 1}\n"
     ]
    }
   ],
   "source": [
    "ciphertext = \"Mewa wa mey twsam iepjoys gt mey ipbya. Pa xgn iph ayy, meysy wa hgmewhr gt whmysyam wh mey iepjoys. Agjy gt mey kpmys iepjoysa vwkk oy jgsy whmysyamwhr meph mewa ghy! Mey iguy nayu tgs mewa jyaapry wa p awjfky anoamwmnmwgh iwfeys wh vewie uwrwma epby oyyh aewtmyu ox 8 fkpiya. Mey fpaavgsu wa mxSrN03uwdd vwmegnm mey dngmya.\"\n",
    "frequency_analysis(ciphertext)"
   ]
  },
  {
   "cell_type": "markdown",
   "id": "99968e4b",
   "metadata": {},
   "source": [
    "### Letter Pair Analysis"
   ]
  },
  {
   "cell_type": "code",
   "execution_count": 29,
   "id": "ef7138a3",
   "metadata": {},
   "outputs": [],
   "source": [
    "def letter_pair_analysis(ciphertext):\n",
    "    \n",
    "    freq_dict = {}\n",
    "    for i in range(len(ciphertext)-1):\n",
    "        if ciphertext[i].isalpha() and ciphertext[i+1].isalpha():\n",
    "            letter_pair = ciphertext[i] + ciphertext[i+1]\n",
    "            if letter_pair in freq_dict:\n",
    "                freq_dict[letter_pair] += 1\n",
    "            else:\n",
    "                freq_dict[letter_pair] = 1\n",
    "   \n",
    "    freq_dict = dict(sorted(freq_dict.items(), key=lambda item: item[1], reverse=True))\n",
    "    \n",
    "    print(\"Frequency:\", freq_dict)\n"
   ]
  },
  {
   "cell_type": "code",
   "execution_count": 30,
   "id": "c1b14ed2",
   "metadata": {},
   "outputs": [
    {
     "name": "stdout",
     "output_type": "stream",
     "text": [
      "Frequency: {'me': 11, 'ey': 9, 'ys': 8, 'wa': 7, 'ew': 6, 'ya': 6, 'wh': 6, 'ep': 5, 'oy': 5, 'my': 5, 'am': 4, 'ie': 4, 'sy': 4, 'Me': 3, 'pj': 3, 'jo': 3, 'gt': 3, 'gs': 3, 'mw': 3, 'wm': 3, 'sa': 2, 'ip': 2, 'pb': 2, 'by': 2, 'gn': 2, 'ph': 2, 'ay': 2, 'yy': 2, 'gm': 2, 'hr': 2, 'hm': 2, 'jy': 2, 'kp': 2, 'vw': 2, 'gh': 2, 'yu': 2, 'aa': 2, 'fk': 2, 'nm': 2, 'uw': 2, 'tw': 1, 'ws': 1, 'Pa': 1, 'xg': 1, 'hg': 1, 'Ag': 1, 'gj': 1, 'pm': 1, 'wk': 1, 'kk': 1, 'jg': 1, 'hy': 1, 'ig': 1, 'gu': 1, 'uy': 1, 'na': 1, 'tg': 1, 'ap': 1, 'pr': 1, 'ry': 1, 'aw': 1, 'wj': 1, 'jf': 1, 'ky': 1, 'an': 1, 'no': 1, 'oa': 1, 'mn': 1, 'wg': 1, 'iw': 1, 'wf': 1, 'fe': 1, 've': 1, 'wi': 1, 'wr': 1, 'rw': 1, 'ma': 1, 'yh': 1, 'ae': 1, 'wt': 1, 'tm': 1, 'ox': 1, 'pi': 1, 'iy': 1, 'fp': 1, 'pa': 1, 'av': 1, 'vg': 1, 'su': 1, 'mx': 1, 'xS': 1, 'Sr': 1, 'rN': 1, 'wd': 1, 'dd': 1, 'eg': 1, 'dn': 1, 'ng': 1}\n"
     ]
    }
   ],
   "source": [
    "ciphertext = \"Mewa wa mey twsam iepjoys gt mey ipbya. Pa xgn iph ayy, meysy wa hgmewhr gt whmysyam wh mey iepjoys. Agjy gt mey kpmys iepjoysa vwkk oy jgsy whmysyamwhr meph mewa ghy! Mey iguy nayu tgs mewa jyaapry wa p awjfky anoamwmnmwgh iwfeys wh vewie uwrwma epby oyyh aewtmyu ox 8 fkpiya. Mey fpaavgsu wa mxSrN03uwdd vwmegnm mey dngmya.\"\n",
    "letter_pair_analysis(ciphertext)"
   ]
  },
  {
   "cell_type": "markdown",
   "id": "6c99838c",
   "metadata": {},
   "source": [
    "### Substitution Cipher Using frequency analysis"
   ]
  },
  {
   "cell_type": "code",
   "execution_count": 37,
   "id": "645dc80d",
   "metadata": {},
   "outputs": [
    {
     "name": "stdout",
     "output_type": "stream",
     "text": [
      "Mapped Ciphertext: This is the first chamber of the caves. As you can see, there is nothing of interest in the chamber. Some of the later chambers will be more interesting than this one! The code used for this message is a simple substitution cipher in which digits have been shifted by 8 places. The password is tyRgU03diqq without the quotes.\n"
     ]
    }
   ],
   "source": [
    "def ciphertext_mapping(ciphertext, key):\n",
    "    \n",
    "    mapped_ciphertext = []\n",
    "    for char in ciphertext:\n",
    "        if char.isalpha() :\n",
    "            mapped_ciphertext.append(key[char])\n",
    "        else:\n",
    "            mapped_ciphertext.append(char)\n",
    "    \n",
    "    mapped_ciphertext = ''.join(mapped_ciphertext)\n",
    "    \n",
    "    print(\"Mapped Ciphertext:\", mapped_ciphertext)\n",
    "\n",
    "key = {'a': 's', 'b': 'v', 'c': 'k', 'd': 'q', 'e': 'h', 'f': 'p', 'g': 'o', 'h': 'n', 'i': 'c', 'j': 'm', 'k': 'l', 'l': 'j', 'm': 't', 'n': 'u', 'o': 'b', 'p': 'a', 'q': 'x', 'r': 'g', 's': 'r', 't': 'f', 'u': 'd', 'v': 'w', 'w': 'i', 'x': 'y', 'y': 'e', 'z': 'z','M':'T','P':'A','A':'S','S':'R','N':'U'}\n",
    "ciphertext = \"Mewa wa mey twsam iepjoys gt mey ipbya. Pa xgn iph ayy, meysy wa hgmewhr gt whmysyam wh mey iepjoys. Agjy gt mey kpmys iepjoysa vwkk oy jgsy whmysyamwhr meph mewa ghy! Mey iguy nayu tgs mewa jyaapry wa p awjfky anoamwmnmwgh iwfeys wh vewie uwrwma epby oyyh aewtmyu ox 8 fkpiya. Mey fpaavgsu wa mxSrN03uwdd vwmegnm mey dngmya.\"\n",
    "ciphertext_mapping(ciphertext, key)"
   ]
  },
  {
   "cell_type": "code",
   "execution_count": null,
   "id": "94722ae0",
   "metadata": {},
   "outputs": [],
   "source": []
  }
 ],
 "metadata": {
  "kernelspec": {
   "display_name": "Python 3 (ipykernel)",
   "language": "python",
   "name": "python3"
  },
  "language_info": {
   "codemirror_mode": {
    "name": "ipython",
    "version": 3
   },
   "file_extension": ".py",
   "mimetype": "text/x-python",
   "name": "python",
   "nbconvert_exporter": "python",
   "pygments_lexer": "ipython3",
   "version": "3.10.6"
  }
 },
 "nbformat": 4,
 "nbformat_minor": 5
}
